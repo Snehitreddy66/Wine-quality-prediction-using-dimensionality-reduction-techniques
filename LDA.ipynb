{
 "cells": [
  {
   "cell_type": "code",
   "execution_count": 1,
   "id": "377cd2c8",
   "metadata": {
    "ExecuteTime": {
     "end_time": "2023-05-10T01:59:35.187094Z",
     "start_time": "2023-05-10T01:59:31.357805Z"
    }
   },
   "outputs": [],
   "source": [
    "import pandas as pd\n",
    "import numpy as np\n",
    "import matplotlib.pyplot as plt\n",
    "import seaborn as sns\n",
    "import itertools"
   ]
  },
  {
   "cell_type": "markdown",
   "id": "e326ef78",
   "metadata": {},
   "source": [
    "## Loading the data"
   ]
  },
  {
   "cell_type": "code",
   "execution_count": 2,
   "id": "a3d44a99",
   "metadata": {
    "ExecuteTime": {
     "end_time": "2023-05-10T01:59:35.243002Z",
     "start_time": "2023-05-10T01:59:35.191098Z"
    }
   },
   "outputs": [],
   "source": [
    "df = pd.read_csv('winequalityN.csv')"
   ]
  },
  {
   "cell_type": "code",
   "execution_count": 3,
   "id": "8539aa02",
   "metadata": {
    "ExecuteTime": {
     "end_time": "2023-05-10T01:59:35.286195Z",
     "start_time": "2023-05-10T01:59:35.243002Z"
    }
   },
   "outputs": [
    {
     "data": {
      "text/html": [
       "<div>\n",
       "<style scoped>\n",
       "    .dataframe tbody tr th:only-of-type {\n",
       "        vertical-align: middle;\n",
       "    }\n",
       "\n",
       "    .dataframe tbody tr th {\n",
       "        vertical-align: top;\n",
       "    }\n",
       "\n",
       "    .dataframe thead th {\n",
       "        text-align: right;\n",
       "    }\n",
       "</style>\n",
       "<table border=\"1\" class=\"dataframe\">\n",
       "  <thead>\n",
       "    <tr style=\"text-align: right;\">\n",
       "      <th></th>\n",
       "      <th>type</th>\n",
       "      <th>fixed acidity</th>\n",
       "      <th>volatile acidity</th>\n",
       "      <th>citric acid</th>\n",
       "      <th>residual sugar</th>\n",
       "      <th>chlorides</th>\n",
       "      <th>free sulfur dioxide</th>\n",
       "      <th>total sulfur dioxide</th>\n",
       "      <th>density</th>\n",
       "      <th>pH</th>\n",
       "      <th>sulphates</th>\n",
       "      <th>alcohol</th>\n",
       "      <th>quality</th>\n",
       "    </tr>\n",
       "  </thead>\n",
       "  <tbody>\n",
       "    <tr>\n",
       "      <th>0</th>\n",
       "      <td>white</td>\n",
       "      <td>7.0</td>\n",
       "      <td>0.27</td>\n",
       "      <td>0.36</td>\n",
       "      <td>20.7</td>\n",
       "      <td>0.045</td>\n",
       "      <td>45.0</td>\n",
       "      <td>170.0</td>\n",
       "      <td>1.0010</td>\n",
       "      <td>3.00</td>\n",
       "      <td>0.45</td>\n",
       "      <td>8.8</td>\n",
       "      <td>6</td>\n",
       "    </tr>\n",
       "    <tr>\n",
       "      <th>1</th>\n",
       "      <td>white</td>\n",
       "      <td>6.3</td>\n",
       "      <td>0.30</td>\n",
       "      <td>0.34</td>\n",
       "      <td>1.6</td>\n",
       "      <td>0.049</td>\n",
       "      <td>14.0</td>\n",
       "      <td>132.0</td>\n",
       "      <td>0.9940</td>\n",
       "      <td>3.30</td>\n",
       "      <td>0.49</td>\n",
       "      <td>9.5</td>\n",
       "      <td>6</td>\n",
       "    </tr>\n",
       "    <tr>\n",
       "      <th>2</th>\n",
       "      <td>white</td>\n",
       "      <td>8.1</td>\n",
       "      <td>0.28</td>\n",
       "      <td>0.40</td>\n",
       "      <td>6.9</td>\n",
       "      <td>0.050</td>\n",
       "      <td>30.0</td>\n",
       "      <td>97.0</td>\n",
       "      <td>0.9951</td>\n",
       "      <td>3.26</td>\n",
       "      <td>0.44</td>\n",
       "      <td>10.1</td>\n",
       "      <td>6</td>\n",
       "    </tr>\n",
       "    <tr>\n",
       "      <th>3</th>\n",
       "      <td>white</td>\n",
       "      <td>7.2</td>\n",
       "      <td>0.23</td>\n",
       "      <td>0.32</td>\n",
       "      <td>8.5</td>\n",
       "      <td>0.058</td>\n",
       "      <td>47.0</td>\n",
       "      <td>186.0</td>\n",
       "      <td>0.9956</td>\n",
       "      <td>3.19</td>\n",
       "      <td>0.40</td>\n",
       "      <td>9.9</td>\n",
       "      <td>6</td>\n",
       "    </tr>\n",
       "    <tr>\n",
       "      <th>4</th>\n",
       "      <td>white</td>\n",
       "      <td>7.2</td>\n",
       "      <td>0.23</td>\n",
       "      <td>0.32</td>\n",
       "      <td>8.5</td>\n",
       "      <td>0.058</td>\n",
       "      <td>47.0</td>\n",
       "      <td>186.0</td>\n",
       "      <td>0.9956</td>\n",
       "      <td>3.19</td>\n",
       "      <td>0.40</td>\n",
       "      <td>9.9</td>\n",
       "      <td>6</td>\n",
       "    </tr>\n",
       "  </tbody>\n",
       "</table>\n",
       "</div>"
      ],
      "text/plain": [
       "    type  fixed acidity  volatile acidity  citric acid  residual sugar  \\\n",
       "0  white            7.0              0.27         0.36            20.7   \n",
       "1  white            6.3              0.30         0.34             1.6   \n",
       "2  white            8.1              0.28         0.40             6.9   \n",
       "3  white            7.2              0.23         0.32             8.5   \n",
       "4  white            7.2              0.23         0.32             8.5   \n",
       "\n",
       "   chlorides  free sulfur dioxide  total sulfur dioxide  density    pH  \\\n",
       "0      0.045                 45.0                 170.0   1.0010  3.00   \n",
       "1      0.049                 14.0                 132.0   0.9940  3.30   \n",
       "2      0.050                 30.0                  97.0   0.9951  3.26   \n",
       "3      0.058                 47.0                 186.0   0.9956  3.19   \n",
       "4      0.058                 47.0                 186.0   0.9956  3.19   \n",
       "\n",
       "   sulphates  alcohol  quality  \n",
       "0       0.45      8.8        6  \n",
       "1       0.49      9.5        6  \n",
       "2       0.44     10.1        6  \n",
       "3       0.40      9.9        6  \n",
       "4       0.40      9.9        6  "
      ]
     },
     "execution_count": 3,
     "metadata": {},
     "output_type": "execute_result"
    }
   ],
   "source": [
    "df.head()"
   ]
  },
  {
   "cell_type": "code",
   "execution_count": 4,
   "id": "0706f8a3",
   "metadata": {
    "ExecuteTime": {
     "end_time": "2023-05-10T01:59:35.313679Z",
     "start_time": "2023-05-10T01:59:35.286195Z"
    }
   },
   "outputs": [
    {
     "name": "stdout",
     "output_type": "stream",
     "text": [
      "<class 'pandas.core.frame.DataFrame'>\n",
      "RangeIndex: 6497 entries, 0 to 6496\n",
      "Data columns (total 13 columns):\n",
      " #   Column                Non-Null Count  Dtype  \n",
      "---  ------                --------------  -----  \n",
      " 0   type                  6497 non-null   object \n",
      " 1   fixed acidity         6487 non-null   float64\n",
      " 2   volatile acidity      6489 non-null   float64\n",
      " 3   citric acid           6494 non-null   float64\n",
      " 4   residual sugar        6495 non-null   float64\n",
      " 5   chlorides             6495 non-null   float64\n",
      " 6   free sulfur dioxide   6497 non-null   float64\n",
      " 7   total sulfur dioxide  6497 non-null   float64\n",
      " 8   density               6497 non-null   float64\n",
      " 9   pH                    6488 non-null   float64\n",
      " 10  sulphates             6493 non-null   float64\n",
      " 11  alcohol               6497 non-null   float64\n",
      " 12  quality               6497 non-null   int64  \n",
      "dtypes: float64(11), int64(1), object(1)\n",
      "memory usage: 660.0+ KB\n"
     ]
    }
   ],
   "source": [
    "df.info()"
   ]
  },
  {
   "cell_type": "code",
   "execution_count": 5,
   "id": "28877955",
   "metadata": {
    "ExecuteTime": {
     "end_time": "2023-05-10T01:59:35.376215Z",
     "start_time": "2023-05-10T01:59:35.317678Z"
    }
   },
   "outputs": [
    {
     "data": {
      "text/html": [
       "<div>\n",
       "<style scoped>\n",
       "    .dataframe tbody tr th:only-of-type {\n",
       "        vertical-align: middle;\n",
       "    }\n",
       "\n",
       "    .dataframe tbody tr th {\n",
       "        vertical-align: top;\n",
       "    }\n",
       "\n",
       "    .dataframe thead th {\n",
       "        text-align: right;\n",
       "    }\n",
       "</style>\n",
       "<table border=\"1\" class=\"dataframe\">\n",
       "  <thead>\n",
       "    <tr style=\"text-align: right;\">\n",
       "      <th></th>\n",
       "      <th>fixed acidity</th>\n",
       "      <th>volatile acidity</th>\n",
       "      <th>citric acid</th>\n",
       "      <th>residual sugar</th>\n",
       "      <th>chlorides</th>\n",
       "      <th>free sulfur dioxide</th>\n",
       "      <th>total sulfur dioxide</th>\n",
       "      <th>density</th>\n",
       "      <th>pH</th>\n",
       "      <th>sulphates</th>\n",
       "      <th>alcohol</th>\n",
       "      <th>quality</th>\n",
       "    </tr>\n",
       "  </thead>\n",
       "  <tbody>\n",
       "    <tr>\n",
       "      <th>count</th>\n",
       "      <td>6487.000000</td>\n",
       "      <td>6489.000000</td>\n",
       "      <td>6494.000000</td>\n",
       "      <td>6495.000000</td>\n",
       "      <td>6495.000000</td>\n",
       "      <td>6497.000000</td>\n",
       "      <td>6497.000000</td>\n",
       "      <td>6497.000000</td>\n",
       "      <td>6488.000000</td>\n",
       "      <td>6493.000000</td>\n",
       "      <td>6497.000000</td>\n",
       "      <td>6497.000000</td>\n",
       "    </tr>\n",
       "    <tr>\n",
       "      <th>mean</th>\n",
       "      <td>7.216579</td>\n",
       "      <td>0.339691</td>\n",
       "      <td>0.318722</td>\n",
       "      <td>5.444326</td>\n",
       "      <td>0.056042</td>\n",
       "      <td>30.525319</td>\n",
       "      <td>115.744574</td>\n",
       "      <td>0.994697</td>\n",
       "      <td>3.218395</td>\n",
       "      <td>0.531215</td>\n",
       "      <td>10.491801</td>\n",
       "      <td>5.818378</td>\n",
       "    </tr>\n",
       "    <tr>\n",
       "      <th>std</th>\n",
       "      <td>1.296750</td>\n",
       "      <td>0.164649</td>\n",
       "      <td>0.145265</td>\n",
       "      <td>4.758125</td>\n",
       "      <td>0.035036</td>\n",
       "      <td>17.749400</td>\n",
       "      <td>56.521855</td>\n",
       "      <td>0.002999</td>\n",
       "      <td>0.160748</td>\n",
       "      <td>0.148814</td>\n",
       "      <td>1.192712</td>\n",
       "      <td>0.873255</td>\n",
       "    </tr>\n",
       "    <tr>\n",
       "      <th>min</th>\n",
       "      <td>3.800000</td>\n",
       "      <td>0.080000</td>\n",
       "      <td>0.000000</td>\n",
       "      <td>0.600000</td>\n",
       "      <td>0.009000</td>\n",
       "      <td>1.000000</td>\n",
       "      <td>6.000000</td>\n",
       "      <td>0.987110</td>\n",
       "      <td>2.720000</td>\n",
       "      <td>0.220000</td>\n",
       "      <td>8.000000</td>\n",
       "      <td>3.000000</td>\n",
       "    </tr>\n",
       "    <tr>\n",
       "      <th>25%</th>\n",
       "      <td>6.400000</td>\n",
       "      <td>0.230000</td>\n",
       "      <td>0.250000</td>\n",
       "      <td>1.800000</td>\n",
       "      <td>0.038000</td>\n",
       "      <td>17.000000</td>\n",
       "      <td>77.000000</td>\n",
       "      <td>0.992340</td>\n",
       "      <td>3.110000</td>\n",
       "      <td>0.430000</td>\n",
       "      <td>9.500000</td>\n",
       "      <td>5.000000</td>\n",
       "    </tr>\n",
       "    <tr>\n",
       "      <th>50%</th>\n",
       "      <td>7.000000</td>\n",
       "      <td>0.290000</td>\n",
       "      <td>0.310000</td>\n",
       "      <td>3.000000</td>\n",
       "      <td>0.047000</td>\n",
       "      <td>29.000000</td>\n",
       "      <td>118.000000</td>\n",
       "      <td>0.994890</td>\n",
       "      <td>3.210000</td>\n",
       "      <td>0.510000</td>\n",
       "      <td>10.300000</td>\n",
       "      <td>6.000000</td>\n",
       "    </tr>\n",
       "    <tr>\n",
       "      <th>75%</th>\n",
       "      <td>7.700000</td>\n",
       "      <td>0.400000</td>\n",
       "      <td>0.390000</td>\n",
       "      <td>8.100000</td>\n",
       "      <td>0.065000</td>\n",
       "      <td>41.000000</td>\n",
       "      <td>156.000000</td>\n",
       "      <td>0.996990</td>\n",
       "      <td>3.320000</td>\n",
       "      <td>0.600000</td>\n",
       "      <td>11.300000</td>\n",
       "      <td>6.000000</td>\n",
       "    </tr>\n",
       "    <tr>\n",
       "      <th>max</th>\n",
       "      <td>15.900000</td>\n",
       "      <td>1.580000</td>\n",
       "      <td>1.660000</td>\n",
       "      <td>65.800000</td>\n",
       "      <td>0.611000</td>\n",
       "      <td>289.000000</td>\n",
       "      <td>440.000000</td>\n",
       "      <td>1.038980</td>\n",
       "      <td>4.010000</td>\n",
       "      <td>2.000000</td>\n",
       "      <td>14.900000</td>\n",
       "      <td>9.000000</td>\n",
       "    </tr>\n",
       "  </tbody>\n",
       "</table>\n",
       "</div>"
      ],
      "text/plain": [
       "       fixed acidity  volatile acidity  citric acid  residual sugar  \\\n",
       "count    6487.000000       6489.000000  6494.000000     6495.000000   \n",
       "mean        7.216579          0.339691     0.318722        5.444326   \n",
       "std         1.296750          0.164649     0.145265        4.758125   \n",
       "min         3.800000          0.080000     0.000000        0.600000   \n",
       "25%         6.400000          0.230000     0.250000        1.800000   \n",
       "50%         7.000000          0.290000     0.310000        3.000000   \n",
       "75%         7.700000          0.400000     0.390000        8.100000   \n",
       "max        15.900000          1.580000     1.660000       65.800000   \n",
       "\n",
       "         chlorides  free sulfur dioxide  total sulfur dioxide      density  \\\n",
       "count  6495.000000          6497.000000           6497.000000  6497.000000   \n",
       "mean      0.056042            30.525319            115.744574     0.994697   \n",
       "std       0.035036            17.749400             56.521855     0.002999   \n",
       "min       0.009000             1.000000              6.000000     0.987110   \n",
       "25%       0.038000            17.000000             77.000000     0.992340   \n",
       "50%       0.047000            29.000000            118.000000     0.994890   \n",
       "75%       0.065000            41.000000            156.000000     0.996990   \n",
       "max       0.611000           289.000000            440.000000     1.038980   \n",
       "\n",
       "                pH    sulphates      alcohol      quality  \n",
       "count  6488.000000  6493.000000  6497.000000  6497.000000  \n",
       "mean      3.218395     0.531215    10.491801     5.818378  \n",
       "std       0.160748     0.148814     1.192712     0.873255  \n",
       "min       2.720000     0.220000     8.000000     3.000000  \n",
       "25%       3.110000     0.430000     9.500000     5.000000  \n",
       "50%       3.210000     0.510000    10.300000     6.000000  \n",
       "75%       3.320000     0.600000    11.300000     6.000000  \n",
       "max       4.010000     2.000000    14.900000     9.000000  "
      ]
     },
     "execution_count": 5,
     "metadata": {},
     "output_type": "execute_result"
    }
   ],
   "source": [
    "df.describe()"
   ]
  },
  {
   "cell_type": "markdown",
   "id": "775a22aa",
   "metadata": {},
   "source": [
    "## Checking Null values"
   ]
  },
  {
   "cell_type": "code",
   "execution_count": 6,
   "id": "3968a03a",
   "metadata": {
    "ExecuteTime": {
     "end_time": "2023-05-10T01:59:35.391771Z",
     "start_time": "2023-05-10T01:59:35.380068Z"
    },
    "scrolled": true
   },
   "outputs": [
    {
     "data": {
      "text/plain": [
       "type                     0\n",
       "fixed acidity           10\n",
       "volatile acidity         8\n",
       "citric acid              3\n",
       "residual sugar           2\n",
       "chlorides                2\n",
       "free sulfur dioxide      0\n",
       "total sulfur dioxide     0\n",
       "density                  0\n",
       "pH                       9\n",
       "sulphates                4\n",
       "alcohol                  0\n",
       "quality                  0\n",
       "dtype: int64"
      ]
     },
     "execution_count": 6,
     "metadata": {},
     "output_type": "execute_result"
    }
   ],
   "source": [
    "df.isna().sum()"
   ]
  },
  {
   "cell_type": "markdown",
   "id": "b3bfad30",
   "metadata": {},
   "source": [
    "### Imputing null values with mean"
   ]
  },
  {
   "cell_type": "code",
   "execution_count": 7,
   "id": "67c2f50f",
   "metadata": {
    "ExecuteTime": {
     "end_time": "2023-05-10T01:59:35.422775Z",
     "start_time": "2023-05-10T01:59:35.394842Z"
    }
   },
   "outputs": [
    {
     "name": "stderr",
     "output_type": "stream",
     "text": [
      "C:\\Users\\SNEHIT REDDY\\AppData\\Local\\Temp\\ipykernel_7652\\114435927.py:1: FutureWarning: Dropping of nuisance columns in DataFrame reductions (with 'numeric_only=None') is deprecated; in a future version this will raise TypeError.  Select only valid columns before calling the reduction.\n",
      "  df = df.fillna(df.mean())\n"
     ]
    }
   ],
   "source": [
    "df = df.fillna(df.mean())"
   ]
  },
  {
   "cell_type": "code",
   "execution_count": 8,
   "id": "1cd777db",
   "metadata": {
    "ExecuteTime": {
     "end_time": "2023-05-10T01:59:35.437726Z",
     "start_time": "2023-05-10T01:59:35.426273Z"
    }
   },
   "outputs": [
    {
     "data": {
      "text/plain": [
       "type                    0\n",
       "fixed acidity           0\n",
       "volatile acidity        0\n",
       "citric acid             0\n",
       "residual sugar          0\n",
       "chlorides               0\n",
       "free sulfur dioxide     0\n",
       "total sulfur dioxide    0\n",
       "density                 0\n",
       "pH                      0\n",
       "sulphates               0\n",
       "alcohol                 0\n",
       "quality                 0\n",
       "dtype: int64"
      ]
     },
     "execution_count": 8,
     "metadata": {},
     "output_type": "execute_result"
    }
   ],
   "source": [
    "df.isnull().sum()"
   ]
  },
  {
   "cell_type": "code",
   "execution_count": 9,
   "id": "91de86ab",
   "metadata": {
    "ExecuteTime": {
     "end_time": "2023-05-10T01:59:35.765093Z",
     "start_time": "2023-05-10T01:59:35.440725Z"
    }
   },
   "outputs": [
    {
     "data": {
      "image/png": "[encoded data removed]",
      "text/plain": [
       "<Figure size 432x288 with 1 Axes>"
      ]
     },
     "metadata": {
      "needs_background": "light"
     },
     "output_type": "display_data"
    }
   ],
   "source": [
    "# Visualization to check if the dataset is balanced or not\n",
    "g = sns.countplot(x='quality', data=df)"
   ]
  },
  {
   "cell_type": "markdown",
   "id": "ee1ab1af",
   "metadata": {},
   "source": [
    "## Checking duplicated values"
   ]
  },
  {
   "cell_type": "code",
   "execution_count": 10,
   "id": "242aba23",
   "metadata": {
    "ExecuteTime": {
     "end_time": "2023-05-10T01:59:35.796203Z",
     "start_time": "2023-05-10T01:59:35.766214Z"
    }
   },
   "outputs": [
    {
     "data": {
      "text/plain": [
       "1168"
      ]
     },
     "execution_count": 10,
     "metadata": {},
     "output_type": "execute_result"
    }
   ],
   "source": [
    "df.duplicated().sum()"
   ]
  },
  {
   "cell_type": "markdown",
   "id": "bd87b579",
   "metadata": {},
   "source": [
    "### Dropping the duplicated values"
   ]
  },
  {
   "cell_type": "code",
   "execution_count": 11,
   "id": "233fbc3e",
   "metadata": {
    "ExecuteTime": {
     "end_time": "2023-05-10T01:59:35.810899Z",
     "start_time": "2023-05-10T01:59:35.796203Z"
    }
   },
   "outputs": [],
   "source": [
    "df.drop_duplicates(inplace=True)"
   ]
  },
  {
   "cell_type": "code",
   "execution_count": 12,
   "id": "493f3003",
   "metadata": {
    "ExecuteTime": {
     "end_time": "2023-05-10T01:59:35.826023Z",
     "start_time": "2023-05-10T01:59:35.814877Z"
    }
   },
   "outputs": [
    {
     "data": {
      "text/plain": [
       "(5329, 13)"
      ]
     },
     "execution_count": 12,
     "metadata": {},
     "output_type": "execute_result"
    }
   ],
   "source": [
    "df.shape"
   ]
  },
  {
   "cell_type": "code",
   "execution_count": 13,
   "id": "d3b0e8cc",
   "metadata": {
    "ExecuteTime": {
     "end_time": "2023-05-10T01:59:36.627858Z",
     "start_time": "2023-05-10T01:59:35.831571Z"
    }
   },
   "outputs": [
    {
     "data": {
      "text/plain": [
       "<AxesSubplot:>"
      ]
     },
     "execution_count": 13,
     "metadata": {},
     "output_type": "execute_result"
    },
    {
     "data": {
      "image/png": "[encoded data removed]",
      "text/plain": [
       "<Figure size 1440x720 with 2 Axes>"
      ]
     },
     "metadata": {
      "needs_background": "light"
     },
     "output_type": "display_data"
    }
   ],
   "source": [
    "cor = df.corr()\n",
    "plt.figure(figsize=(20,10))\n",
    "sns.heatmap(cor,annot=True,cmap='coolwarm')"
   ]
  },
  {
   "cell_type": "code",
   "execution_count": 14,
   "id": "230a52fd",
   "metadata": {
    "ExecuteTime": {
     "end_time": "2023-05-10T01:59:36.666298Z",
     "start_time": "2023-05-10T01:59:36.637313Z"
    }
   },
   "outputs": [
    {
     "data": {
      "text/plain": [
       "0"
      ]
     },
     "execution_count": 14,
     "metadata": {},
     "output_type": "execute_result"
    }
   ],
   "source": [
    "df.duplicated().sum()"
   ]
  },
  {
   "cell_type": "markdown",
   "id": "5cb55ddf",
   "metadata": {},
   "source": [
    "## Checking Outliers"
   ]
  },
  {
   "cell_type": "code",
   "execution_count": 15,
   "id": "c78a7087",
   "metadata": {
    "ExecuteTime": {
     "end_time": "2023-05-10T01:59:36.691133Z",
     "start_time": "2023-05-10T01:59:36.669125Z"
    }
   },
   "outputs": [],
   "source": [
    "# import warnings\n",
    "\n",
    "# # outlier check\n",
    "# plt.figure(figsize=(15, 20))\n",
    "\n",
    "# for i, c in enumerate(df.drop('quality', axis=1).select_dtypes(include='number').columns):\n",
    "#     plt.subplot(10,2,i*2+1)\n",
    "#     sns.boxplot(df[c], color='blue')\n",
    "#     plt.title('Distribution plot for field:' + c)\n",
    "#     plt.xlabel('')\n",
    "#     plt.tight_layout(pad=0.4, w_pad=0.5, h_pad=1.0)\n",
    "\n",
    "    \n",
    "#     plt.subplot(10,2,i*2+2)\n",
    "#     sns.boxplot(df[c].apply('log1p'), color='red')\n",
    "#     plt.title('Log1p distribution plot for field:' + c)\n",
    "#     plt.xlabel('')\n",
    "#     plt.tight_layout(pad=0.4, w_pad=0.5, h_pad=1.0)"
   ]
  },
  {
   "cell_type": "code",
   "execution_count": 16,
   "id": "4a866964",
   "metadata": {
    "ExecuteTime": {
     "end_time": "2023-05-10T01:59:36.720857Z",
     "start_time": "2023-05-10T01:59:36.695636Z"
    }
   },
   "outputs": [
    {
     "data": {
      "text/plain": [
       "array(['white', 'red'], dtype=object)"
      ]
     },
     "execution_count": 16,
     "metadata": {},
     "output_type": "execute_result"
    }
   ],
   "source": [
    "df['type'].unique()"
   ]
  },
  {
   "cell_type": "markdown",
   "id": "b8d60aaa",
   "metadata": {},
   "source": [
    "## Treating cat variables"
   ]
  },
  {
   "cell_type": "code",
   "execution_count": 17,
   "id": "a308aeb5",
   "metadata": {
    "ExecuteTime": {
     "end_time": "2023-05-10T01:59:37.044370Z",
     "start_time": "2023-05-10T01:59:36.724956Z"
    }
   },
   "outputs": [
    {
     "data": {
      "text/plain": [
       "0    1\n",
       "1    1\n",
       "2    1\n",
       "3    1\n",
       "6    1\n",
       "Name: type, dtype: int32"
      ]
     },
     "execution_count": 17,
     "metadata": {},
     "output_type": "execute_result"
    }
   ],
   "source": [
    "from sklearn.preprocessing import LabelEncoder\n",
    "le = LabelEncoder()\n",
    "df['type'] = le.fit_transform(df['type'])\n",
    "df.type.head()"
   ]
  },
  {
   "cell_type": "code",
   "execution_count": 18,
   "id": "6c688a0c",
   "metadata": {
    "ExecuteTime": {
     "end_time": "2023-05-10T01:59:37.085518Z",
     "start_time": "2023-05-10T01:59:37.046671Z"
    }
   },
   "outputs": [
    {
     "data": {
      "text/html": [
       "<div>\n",
       "<style scoped>\n",
       "    .dataframe tbody tr th:only-of-type {\n",
       "        vertical-align: middle;\n",
       "    }\n",
       "\n",
       "    .dataframe tbody tr th {\n",
       "        vertical-align: top;\n",
       "    }\n",
       "\n",
       "    .dataframe thead th {\n",
       "        text-align: right;\n",
       "    }\n",
       "</style>\n",
       "<table border=\"1\" class=\"dataframe\">\n",
       "  <thead>\n",
       "    <tr style=\"text-align: right;\">\n",
       "      <th></th>\n",
       "      <th>type</th>\n",
       "      <th>fixed acidity</th>\n",
       "      <th>volatile acidity</th>\n",
       "      <th>citric acid</th>\n",
       "      <th>residual sugar</th>\n",
       "      <th>chlorides</th>\n",
       "      <th>free sulfur dioxide</th>\n",
       "      <th>total sulfur dioxide</th>\n",
       "      <th>density</th>\n",
       "      <th>pH</th>\n",
       "      <th>sulphates</th>\n",
       "      <th>alcohol</th>\n",
       "      <th>quality</th>\n",
       "    </tr>\n",
       "  </thead>\n",
       "  <tbody>\n",
       "    <tr>\n",
       "      <th>0</th>\n",
       "      <td>1</td>\n",
       "      <td>7.0</td>\n",
       "      <td>0.27</td>\n",
       "      <td>0.36</td>\n",
       "      <td>20.7</td>\n",
       "      <td>0.045</td>\n",
       "      <td>45.0</td>\n",
       "      <td>170.0</td>\n",
       "      <td>1.0010</td>\n",
       "      <td>3.00</td>\n",
       "      <td>0.45</td>\n",
       "      <td>8.8</td>\n",
       "      <td>6</td>\n",
       "    </tr>\n",
       "    <tr>\n",
       "      <th>1</th>\n",
       "      <td>1</td>\n",
       "      <td>6.3</td>\n",
       "      <td>0.30</td>\n",
       "      <td>0.34</td>\n",
       "      <td>1.6</td>\n",
       "      <td>0.049</td>\n",
       "      <td>14.0</td>\n",
       "      <td>132.0</td>\n",
       "      <td>0.9940</td>\n",
       "      <td>3.30</td>\n",
       "      <td>0.49</td>\n",
       "      <td>9.5</td>\n",
       "      <td>6</td>\n",
       "    </tr>\n",
       "    <tr>\n",
       "      <th>2</th>\n",
       "      <td>1</td>\n",
       "      <td>8.1</td>\n",
       "      <td>0.28</td>\n",
       "      <td>0.40</td>\n",
       "      <td>6.9</td>\n",
       "      <td>0.050</td>\n",
       "      <td>30.0</td>\n",
       "      <td>97.0</td>\n",
       "      <td>0.9951</td>\n",
       "      <td>3.26</td>\n",
       "      <td>0.44</td>\n",
       "      <td>10.1</td>\n",
       "      <td>6</td>\n",
       "    </tr>\n",
       "    <tr>\n",
       "      <th>3</th>\n",
       "      <td>1</td>\n",
       "      <td>7.2</td>\n",
       "      <td>0.23</td>\n",
       "      <td>0.32</td>\n",
       "      <td>8.5</td>\n",
       "      <td>0.058</td>\n",
       "      <td>47.0</td>\n",
       "      <td>186.0</td>\n",
       "      <td>0.9956</td>\n",
       "      <td>3.19</td>\n",
       "      <td>0.40</td>\n",
       "      <td>9.9</td>\n",
       "      <td>6</td>\n",
       "    </tr>\n",
       "    <tr>\n",
       "      <th>6</th>\n",
       "      <td>1</td>\n",
       "      <td>6.2</td>\n",
       "      <td>0.32</td>\n",
       "      <td>0.16</td>\n",
       "      <td>7.0</td>\n",
       "      <td>0.045</td>\n",
       "      <td>30.0</td>\n",
       "      <td>136.0</td>\n",
       "      <td>0.9949</td>\n",
       "      <td>3.18</td>\n",
       "      <td>0.47</td>\n",
       "      <td>9.6</td>\n",
       "      <td>6</td>\n",
       "    </tr>\n",
       "  </tbody>\n",
       "</table>\n",
       "</div>"
      ],
      "text/plain": [
       "   type  fixed acidity  volatile acidity  citric acid  residual sugar  \\\n",
       "0     1            7.0              0.27         0.36            20.7   \n",
       "1     1            6.3              0.30         0.34             1.6   \n",
       "2     1            8.1              0.28         0.40             6.9   \n",
       "3     1            7.2              0.23         0.32             8.5   \n",
       "6     1            6.2              0.32         0.16             7.0   \n",
       "\n",
       "   chlorides  free sulfur dioxide  total sulfur dioxide  density    pH  \\\n",
       "0      0.045                 45.0                 170.0   1.0010  3.00   \n",
       "1      0.049                 14.0                 132.0   0.9940  3.30   \n",
       "2      0.050                 30.0                  97.0   0.9951  3.26   \n",
       "3      0.058                 47.0                 186.0   0.9956  3.19   \n",
       "6      0.045                 30.0                 136.0   0.9949  3.18   \n",
       "\n",
       "   sulphates  alcohol  quality  \n",
       "0       0.45      8.8        6  \n",
       "1       0.49      9.5        6  \n",
       "2       0.44     10.1        6  \n",
       "3       0.40      9.9        6  \n",
       "6       0.47      9.6        6  "
      ]
     },
     "execution_count": 18,
     "metadata": {},
     "output_type": "execute_result"
    }
   ],
   "source": [
    "df.head()"
   ]
  },
  {
   "cell_type": "code",
   "execution_count": 19,
   "id": "bb364bb7",
   "metadata": {
    "ExecuteTime": {
     "end_time": "2023-05-10T01:59:37.131205Z",
     "start_time": "2023-05-10T01:59:37.087790Z"
    }
   },
   "outputs": [
    {
     "name": "stdout",
     "output_type": "stream",
     "text": [
      "<class 'pandas.core.frame.DataFrame'>\n",
      "Int64Index: 5329 entries, 0 to 6496\n",
      "Data columns (total 13 columns):\n",
      " #   Column                Non-Null Count  Dtype  \n",
      "---  ------                --------------  -----  \n",
      " 0   type                  5329 non-null   int32  \n",
      " 1   fixed acidity         5329 non-null   float64\n",
      " 2   volatile acidity      5329 non-null   float64\n",
      " 3   citric acid           5329 non-null   float64\n",
      " 4   residual sugar        5329 non-null   float64\n",
      " 5   chlorides             5329 non-null   float64\n",
      " 6   free sulfur dioxide   5329 non-null   float64\n",
      " 7   total sulfur dioxide  5329 non-null   float64\n",
      " 8   density               5329 non-null   float64\n",
      " 9   pH                    5329 non-null   float64\n",
      " 10  sulphates             5329 non-null   float64\n",
      " 11  alcohol               5329 non-null   float64\n",
      " 12  quality               5329 non-null   int64  \n",
      "dtypes: float64(11), int32(1), int64(1)\n",
      "memory usage: 562.0 KB\n"
     ]
    }
   ],
   "source": [
    "df.info()"
   ]
  },
  {
   "cell_type": "markdown",
   "id": "9b687400",
   "metadata": {},
   "source": [
    "## Data splitting"
   ]
  },
  {
   "cell_type": "code",
   "execution_count": 20,
   "id": "237ad661",
   "metadata": {
    "ExecuteTime": {
     "end_time": "2023-05-10T01:59:37.147091Z",
     "start_time": "2023-05-10T01:59:37.134234Z"
    }
   },
   "outputs": [],
   "source": [
    "target = 'quality'\n",
    "y = df[target]\n",
    "X = df.drop(target,axis=1)"
   ]
  },
  {
   "cell_type": "code",
   "execution_count": 21,
   "id": "4ac21949",
   "metadata": {
    "ExecuteTime": {
     "end_time": "2023-05-10T01:59:37.194130Z",
     "start_time": "2023-05-10T01:59:37.151100Z"
    }
   },
   "outputs": [
    {
     "data": {
      "text/html": [
       "<div>\n",
       "<style scoped>\n",
       "    .dataframe tbody tr th:only-of-type {\n",
       "        vertical-align: middle;\n",
       "    }\n",
       "\n",
       "    .dataframe tbody tr th {\n",
       "        vertical-align: top;\n",
       "    }\n",
       "\n",
       "    .dataframe thead th {\n",
       "        text-align: right;\n",
       "    }\n",
       "</style>\n",
       "<table border=\"1\" class=\"dataframe\">\n",
       "  <thead>\n",
       "    <tr style=\"text-align: right;\">\n",
       "      <th></th>\n",
       "      <th>type</th>\n",
       "      <th>fixed acidity</th>\n",
       "      <th>volatile acidity</th>\n",
       "      <th>citric acid</th>\n",
       "      <th>residual sugar</th>\n",
       "      <th>chlorides</th>\n",
       "      <th>free sulfur dioxide</th>\n",
       "      <th>total sulfur dioxide</th>\n",
       "      <th>density</th>\n",
       "      <th>pH</th>\n",
       "      <th>sulphates</th>\n",
       "      <th>alcohol</th>\n",
       "    </tr>\n",
       "  </thead>\n",
       "  <tbody>\n",
       "    <tr>\n",
       "      <th>0</th>\n",
       "      <td>1</td>\n",
       "      <td>7.0</td>\n",
       "      <td>0.27</td>\n",
       "      <td>0.36</td>\n",
       "      <td>20.7</td>\n",
       "      <td>0.045</td>\n",
       "      <td>45.0</td>\n",
       "      <td>170.0</td>\n",
       "      <td>1.0010</td>\n",
       "      <td>3.00</td>\n",
       "      <td>0.45</td>\n",
       "      <td>8.8</td>\n",
       "    </tr>\n",
       "    <tr>\n",
       "      <th>1</th>\n",
       "      <td>1</td>\n",
       "      <td>6.3</td>\n",
       "      <td>0.30</td>\n",
       "      <td>0.34</td>\n",
       "      <td>1.6</td>\n",
       "      <td>0.049</td>\n",
       "      <td>14.0</td>\n",
       "      <td>132.0</td>\n",
       "      <td>0.9940</td>\n",
       "      <td>3.30</td>\n",
       "      <td>0.49</td>\n",
       "      <td>9.5</td>\n",
       "    </tr>\n",
       "    <tr>\n",
       "      <th>2</th>\n",
       "      <td>1</td>\n",
       "      <td>8.1</td>\n",
       "      <td>0.28</td>\n",
       "      <td>0.40</td>\n",
       "      <td>6.9</td>\n",
       "      <td>0.050</td>\n",
       "      <td>30.0</td>\n",
       "      <td>97.0</td>\n",
       "      <td>0.9951</td>\n",
       "      <td>3.26</td>\n",
       "      <td>0.44</td>\n",
       "      <td>10.1</td>\n",
       "    </tr>\n",
       "    <tr>\n",
       "      <th>3</th>\n",
       "      <td>1</td>\n",
       "      <td>7.2</td>\n",
       "      <td>0.23</td>\n",
       "      <td>0.32</td>\n",
       "      <td>8.5</td>\n",
       "      <td>0.058</td>\n",
       "      <td>47.0</td>\n",
       "      <td>186.0</td>\n",
       "      <td>0.9956</td>\n",
       "      <td>3.19</td>\n",
       "      <td>0.40</td>\n",
       "      <td>9.9</td>\n",
       "    </tr>\n",
       "    <tr>\n",
       "      <th>6</th>\n",
       "      <td>1</td>\n",
       "      <td>6.2</td>\n",
       "      <td>0.32</td>\n",
       "      <td>0.16</td>\n",
       "      <td>7.0</td>\n",
       "      <td>0.045</td>\n",
       "      <td>30.0</td>\n",
       "      <td>136.0</td>\n",
       "      <td>0.9949</td>\n",
       "      <td>3.18</td>\n",
       "      <td>0.47</td>\n",
       "      <td>9.6</td>\n",
       "    </tr>\n",
       "  </tbody>\n",
       "</table>\n",
       "</div>"
      ],
      "text/plain": [
       "   type  fixed acidity  volatile acidity  citric acid  residual sugar  \\\n",
       "0     1            7.0              0.27         0.36            20.7   \n",
       "1     1            6.3              0.30         0.34             1.6   \n",
       "2     1            8.1              0.28         0.40             6.9   \n",
       "3     1            7.2              0.23         0.32             8.5   \n",
       "6     1            6.2              0.32         0.16             7.0   \n",
       "\n",
       "   chlorides  free sulfur dioxide  total sulfur dioxide  density    pH  \\\n",
       "0      0.045                 45.0                 170.0   1.0010  3.00   \n",
       "1      0.049                 14.0                 132.0   0.9940  3.30   \n",
       "2      0.050                 30.0                  97.0   0.9951  3.26   \n",
       "3      0.058                 47.0                 186.0   0.9956  3.19   \n",
       "6      0.045                 30.0                 136.0   0.9949  3.18   \n",
       "\n",
       "   sulphates  alcohol  \n",
       "0       0.45      8.8  \n",
       "1       0.49      9.5  \n",
       "2       0.44     10.1  \n",
       "3       0.40      9.9  \n",
       "6       0.47      9.6  "
      ]
     },
     "execution_count": 21,
     "metadata": {},
     "output_type": "execute_result"
    }
   ],
   "source": [
    "X.head()"
   ]
  },
  {
   "cell_type": "markdown",
   "id": "afb377eb",
   "metadata": {},
   "source": [
    "## Data Balancing using SMOTE"
   ]
  },
  {
   "cell_type": "code",
   "execution_count": 22,
   "id": "aa2c7898",
   "metadata": {
    "ExecuteTime": {
     "end_time": "2023-05-10T01:59:37.210934Z",
     "start_time": "2023-05-10T01:59:37.198653Z"
    }
   },
   "outputs": [
    {
     "data": {
      "text/plain": [
       "6    2327\n",
       "5    1755\n",
       "7     857\n",
       "4     206\n",
       "8     149\n",
       "3      30\n",
       "9       5\n",
       "Name: quality, dtype: int64"
      ]
     },
     "execution_count": 22,
     "metadata": {},
     "output_type": "execute_result"
    }
   ],
   "source": [
    "y.value_counts()"
   ]
  },
  {
   "cell_type": "code",
   "execution_count": 23,
   "id": "92e16a79",
   "metadata": {
    "ExecuteTime": {
     "end_time": "2023-05-10T01:59:39.393480Z",
     "start_time": "2023-05-10T01:59:37.214015Z"
    }
   },
   "outputs": [],
   "source": [
    "from imblearn.over_sampling import SMOTE\n",
    "oversample = SMOTE(k_neighbors=4)\n",
    "\n",
    "X_resampled, y_resampled = oversample.fit_resample(X,y)"
   ]
  },
  {
   "cell_type": "code",
   "execution_count": 24,
   "id": "550d3cd6",
   "metadata": {
    "ExecuteTime": {
     "end_time": "2023-05-10T01:59:39.440367Z",
     "start_time": "2023-05-10T01:59:39.398315Z"
    }
   },
   "outputs": [
    {
     "data": {
      "text/html": [
       "<div>\n",
       "<style scoped>\n",
       "    .dataframe tbody tr th:only-of-type {\n",
       "        vertical-align: middle;\n",
       "    }\n",
       "\n",
       "    .dataframe tbody tr th {\n",
       "        vertical-align: top;\n",
       "    }\n",
       "\n",
       "    .dataframe thead th {\n",
       "        text-align: right;\n",
       "    }\n",
       "</style>\n",
       "<table border=\"1\" class=\"dataframe\">\n",
       "  <thead>\n",
       "    <tr style=\"text-align: right;\">\n",
       "      <th></th>\n",
       "      <th>type</th>\n",
       "      <th>fixed acidity</th>\n",
       "      <th>volatile acidity</th>\n",
       "      <th>citric acid</th>\n",
       "      <th>residual sugar</th>\n",
       "      <th>chlorides</th>\n",
       "      <th>free sulfur dioxide</th>\n",
       "      <th>total sulfur dioxide</th>\n",
       "      <th>density</th>\n",
       "      <th>pH</th>\n",
       "      <th>sulphates</th>\n",
       "      <th>alcohol</th>\n",
       "    </tr>\n",
       "  </thead>\n",
       "  <tbody>\n",
       "    <tr>\n",
       "      <th>0</th>\n",
       "      <td>1</td>\n",
       "      <td>7.0</td>\n",
       "      <td>0.27</td>\n",
       "      <td>0.36</td>\n",
       "      <td>20.7</td>\n",
       "      <td>0.045</td>\n",
       "      <td>45.0</td>\n",
       "      <td>170.0</td>\n",
       "      <td>1.0010</td>\n",
       "      <td>3.00</td>\n",
       "      <td>0.45</td>\n",
       "      <td>8.8</td>\n",
       "    </tr>\n",
       "    <tr>\n",
       "      <th>1</th>\n",
       "      <td>1</td>\n",
       "      <td>6.3</td>\n",
       "      <td>0.30</td>\n",
       "      <td>0.34</td>\n",
       "      <td>1.6</td>\n",
       "      <td>0.049</td>\n",
       "      <td>14.0</td>\n",
       "      <td>132.0</td>\n",
       "      <td>0.9940</td>\n",
       "      <td>3.30</td>\n",
       "      <td>0.49</td>\n",
       "      <td>9.5</td>\n",
       "    </tr>\n",
       "    <tr>\n",
       "      <th>2</th>\n",
       "      <td>1</td>\n",
       "      <td>8.1</td>\n",
       "      <td>0.28</td>\n",
       "      <td>0.40</td>\n",
       "      <td>6.9</td>\n",
       "      <td>0.050</td>\n",
       "      <td>30.0</td>\n",
       "      <td>97.0</td>\n",
       "      <td>0.9951</td>\n",
       "      <td>3.26</td>\n",
       "      <td>0.44</td>\n",
       "      <td>10.1</td>\n",
       "    </tr>\n",
       "    <tr>\n",
       "      <th>3</th>\n",
       "      <td>1</td>\n",
       "      <td>7.2</td>\n",
       "      <td>0.23</td>\n",
       "      <td>0.32</td>\n",
       "      <td>8.5</td>\n",
       "      <td>0.058</td>\n",
       "      <td>47.0</td>\n",
       "      <td>186.0</td>\n",
       "      <td>0.9956</td>\n",
       "      <td>3.19</td>\n",
       "      <td>0.40</td>\n",
       "      <td>9.9</td>\n",
       "    </tr>\n",
       "    <tr>\n",
       "      <th>4</th>\n",
       "      <td>1</td>\n",
       "      <td>6.2</td>\n",
       "      <td>0.32</td>\n",
       "      <td>0.16</td>\n",
       "      <td>7.0</td>\n",
       "      <td>0.045</td>\n",
       "      <td>30.0</td>\n",
       "      <td>136.0</td>\n",
       "      <td>0.9949</td>\n",
       "      <td>3.18</td>\n",
       "      <td>0.47</td>\n",
       "      <td>9.6</td>\n",
       "    </tr>\n",
       "  </tbody>\n",
       "</table>\n",
       "</div>"
      ],
      "text/plain": [
       "   type  fixed acidity  volatile acidity  citric acid  residual sugar  \\\n",
       "0     1            7.0              0.27         0.36            20.7   \n",
       "1     1            6.3              0.30         0.34             1.6   \n",
       "2     1            8.1              0.28         0.40             6.9   \n",
       "3     1            7.2              0.23         0.32             8.5   \n",
       "4     1            6.2              0.32         0.16             7.0   \n",
       "\n",
       "   chlorides  free sulfur dioxide  total sulfur dioxide  density    pH  \\\n",
       "0      0.045                 45.0                 170.0   1.0010  3.00   \n",
       "1      0.049                 14.0                 132.0   0.9940  3.30   \n",
       "2      0.050                 30.0                  97.0   0.9951  3.26   \n",
       "3      0.058                 47.0                 186.0   0.9956  3.19   \n",
       "4      0.045                 30.0                 136.0   0.9949  3.18   \n",
       "\n",
       "   sulphates  alcohol  \n",
       "0       0.45      8.8  \n",
       "1       0.49      9.5  \n",
       "2       0.44     10.1  \n",
       "3       0.40      9.9  \n",
       "4       0.47      9.6  "
      ]
     },
     "execution_count": 24,
     "metadata": {},
     "output_type": "execute_result"
    }
   ],
   "source": [
    "X_resampled.head()"
   ]
  },
  {
   "cell_type": "code",
   "execution_count": 25,
   "id": "37dccf59",
   "metadata": {
    "ExecuteTime": {
     "end_time": "2023-05-10T01:59:39.471883Z",
     "start_time": "2023-05-10T01:59:39.446417Z"
    }
   },
   "outputs": [],
   "source": [
    "df['quality'] = df['quality'].apply({3:0,4:1,5:2,6:3,7:4,8:5,9:6}.get)"
   ]
  },
  {
   "cell_type": "code",
   "execution_count": 26,
   "id": "8cc9a354",
   "metadata": {
    "ExecuteTime": {
     "end_time": "2023-05-10T01:59:39.503458Z",
     "start_time": "2023-05-10T01:59:39.475881Z"
    },
    "scrolled": true
   },
   "outputs": [
    {
     "data": {
      "text/plain": [
       "6    2327\n",
       "5    1755\n",
       "7     857\n",
       "4     206\n",
       "8     149\n",
       "3      30\n",
       "9       5\n",
       "Name: quality, dtype: int64"
      ]
     },
     "execution_count": 26,
     "metadata": {},
     "output_type": "execute_result"
    }
   ],
   "source": [
    "y.value_counts()"
   ]
  },
  {
   "cell_type": "code",
   "execution_count": 27,
   "id": "09d37103",
   "metadata": {
    "ExecuteTime": {
     "end_time": "2023-05-10T01:59:39.519269Z",
     "start_time": "2023-05-10T01:59:39.507693Z"
    }
   },
   "outputs": [
    {
     "data": {
      "text/plain": [
       "6    2327\n",
       "5    2327\n",
       "7    2327\n",
       "8    2327\n",
       "4    2327\n",
       "3    2327\n",
       "9    2327\n",
       "Name: quality, dtype: int64"
      ]
     },
     "execution_count": 27,
     "metadata": {},
     "output_type": "execute_result"
    }
   ],
   "source": [
    "y_resampled.value_counts()"
   ]
  },
  {
   "cell_type": "code",
   "execution_count": 28,
   "id": "5d646ec5",
   "metadata": {
    "ExecuteTime": {
     "end_time": "2023-05-10T01:59:39.802385Z",
     "start_time": "2023-05-10T01:59:39.523933Z"
    }
   },
   "outputs": [
    {
     "data": {
      "image/png": "[encoded data removed]",
      "text/plain": [
       "<Figure size 432x288 with 1 Axes>"
      ]
     },
     "metadata": {
      "needs_background": "light"
     },
     "output_type": "display_data"
    }
   ],
   "source": [
    "pd.Series(y_resampled).value_counts().plot.bar()\n",
    "plt.grid()"
   ]
  },
  {
   "cell_type": "code",
   "execution_count": 29,
   "id": "3749512a",
   "metadata": {
    "ExecuteTime": {
     "end_time": "2023-05-10T01:59:40.099326Z",
     "start_time": "2023-05-10T01:59:39.805888Z"
    }
   },
   "outputs": [
    {
     "name": "stderr",
     "output_type": "stream",
     "text": [
      "C:\\Users\\SNEHIT REDDY\\AppData\\Local\\Programs\\Python\\Python310\\lib\\site-packages\\seaborn\\_decorators.py:36: FutureWarning: Pass the following variable as a keyword arg: x. From version 0.12, the only valid positional argument will be `data`, and passing other arguments without an explicit keyword will result in an error or misinterpretation.\n",
      "  warnings.warn(\n"
     ]
    },
    {
     "data": {
      "image/png": "[encoded data removed]",
      "text/plain": [
       "<Figure size 432x288 with 1 Axes>"
      ]
     },
     "metadata": {
      "needs_background": "light"
     },
     "output_type": "display_data"
    }
   ],
   "source": [
    "sns.countplot(df['quality'])\n",
    "plt.show()"
   ]
  },
  {
   "cell_type": "markdown",
   "id": "feb935aa",
   "metadata": {},
   "source": [
    "## Train test split"
   ]
  },
  {
   "cell_type": "code",
   "execution_count": 30,
   "id": "32d6f7ce",
   "metadata": {
    "ExecuteTime": {
     "end_time": "2023-05-10T01:59:40.127191Z",
     "start_time": "2023-05-10T01:59:40.105002Z"
    }
   },
   "outputs": [],
   "source": [
    "from sklearn.model_selection import train_test_split\n",
    "\n",
    "X_train, X_test, y_train, y_test = train_test_split(X_resampled,y_resampled, test_size=0.05,random_state=123)"
   ]
  },
  {
   "cell_type": "code",
   "execution_count": 31,
   "id": "a4513876",
   "metadata": {
    "ExecuteTime": {
     "end_time": "2023-05-10T01:59:40.169589Z",
     "start_time": "2023-05-10T01:59:40.133607Z"
    }
   },
   "outputs": [],
   "source": [
    "from sklearn.preprocessing import StandardScaler\n",
    "\n",
    "scaler = StandardScaler()\n",
    "\n",
    "# fit the scaler to the train set, it will learn the parameters\n",
    "scaler.fit(X_train)\n",
    "\n",
    "# transform train and test sets\n",
    "X_train_scaled = scaler.transform(X_train)\n",
    "X_test_scaled = scaler.transform(X_test)"
   ]
  },
  {
   "cell_type": "code",
   "execution_count": 32,
   "id": "16931307",
   "metadata": {
    "ExecuteTime": {
     "end_time": "2023-05-10T01:59:40.203205Z",
     "start_time": "2023-05-10T01:59:40.173589Z"
    }
   },
   "outputs": [
    {
     "data": {
      "text/plain": [
       "array([7.64831330e-01, 7.28161746e+00, 3.70271080e-01, 3.20261166e-01,\n",
       "       4.69144771e+00, 5.29196214e-02, 3.02134494e+01, 1.12106338e+02,\n",
       "       9.93865016e-01, 3.24687332e+00, 5.14985460e-01, 1.09386742e+01])"
      ]
     },
     "execution_count": 32,
     "metadata": {},
     "output_type": "execute_result"
    }
   ],
   "source": [
    "#checking the mean value after scaling\n",
    "scaler.mean_"
   ]
  },
  {
   "cell_type": "code",
   "execution_count": 33,
   "id": "60512b00",
   "metadata": {
    "ExecuteTime": {
     "end_time": "2023-05-10T01:59:40.244842Z",
     "start_time": "2023-05-10T01:59:40.207192Z"
    }
   },
   "outputs": [
    {
     "data": {
      "text/html": [
       "<div>\n",
       "<style scoped>\n",
       "    .dataframe tbody tr th:only-of-type {\n",
       "        vertical-align: middle;\n",
       "    }\n",
       "\n",
       "    .dataframe tbody tr th {\n",
       "        vertical-align: top;\n",
       "    }\n",
       "\n",
       "    .dataframe thead th {\n",
       "        text-align: right;\n",
       "    }\n",
       "</style>\n",
       "<table border=\"1\" class=\"dataframe\">\n",
       "  <thead>\n",
       "    <tr style=\"text-align: right;\">\n",
       "      <th></th>\n",
       "      <th>type</th>\n",
       "      <th>fixed acidity</th>\n",
       "      <th>volatile acidity</th>\n",
       "      <th>citric acid</th>\n",
       "      <th>residual sugar</th>\n",
       "      <th>chlorides</th>\n",
       "      <th>free sulfur dioxide</th>\n",
       "      <th>total sulfur dioxide</th>\n",
       "      <th>density</th>\n",
       "      <th>pH</th>\n",
       "      <th>sulphates</th>\n",
       "      <th>alcohol</th>\n",
       "    </tr>\n",
       "  </thead>\n",
       "  <tbody>\n",
       "    <tr>\n",
       "      <th>9475</th>\n",
       "      <td>1</td>\n",
       "      <td>9.840636</td>\n",
       "      <td>0.463185</td>\n",
       "      <td>0.834790</td>\n",
       "      <td>5.689934</td>\n",
       "      <td>0.049116</td>\n",
       "      <td>19.652228</td>\n",
       "      <td>124.463696</td>\n",
       "      <td>0.996545</td>\n",
       "      <td>3.027096</td>\n",
       "      <td>0.518115</td>\n",
       "      <td>9.981147</td>\n",
       "    </tr>\n",
       "    <tr>\n",
       "      <th>15795</th>\n",
       "      <td>1</td>\n",
       "      <td>7.536265</td>\n",
       "      <td>0.333971</td>\n",
       "      <td>0.371813</td>\n",
       "      <td>6.050952</td>\n",
       "      <td>0.022917</td>\n",
       "      <td>48.612872</td>\n",
       "      <td>120.446057</td>\n",
       "      <td>0.991882</td>\n",
       "      <td>3.256863</td>\n",
       "      <td>0.388921</td>\n",
       "      <td>12.034814</td>\n",
       "    </tr>\n",
       "    <tr>\n",
       "      <th>4319</th>\n",
       "      <td>0</td>\n",
       "      <td>7.700000</td>\n",
       "      <td>0.260000</td>\n",
       "      <td>0.300000</td>\n",
       "      <td>1.700000</td>\n",
       "      <td>0.059000</td>\n",
       "      <td>20.000000</td>\n",
       "      <td>38.000000</td>\n",
       "      <td>0.994900</td>\n",
       "      <td>3.290000</td>\n",
       "      <td>0.470000</td>\n",
       "      <td>10.800000</td>\n",
       "    </tr>\n",
       "    <tr>\n",
       "      <th>12399</th>\n",
       "      <td>1</td>\n",
       "      <td>5.864667</td>\n",
       "      <td>0.310267</td>\n",
       "      <td>0.257533</td>\n",
       "      <td>4.508000</td>\n",
       "      <td>0.029513</td>\n",
       "      <td>35.460000</td>\n",
       "      <td>100.513333</td>\n",
       "      <td>0.990859</td>\n",
       "      <td>3.330800</td>\n",
       "      <td>0.483200</td>\n",
       "      <td>12.159333</td>\n",
       "    </tr>\n",
       "    <tr>\n",
       "      <th>7137</th>\n",
       "      <td>1</td>\n",
       "      <td>5.940033</td>\n",
       "      <td>0.236499</td>\n",
       "      <td>0.408492</td>\n",
       "      <td>2.519766</td>\n",
       "      <td>0.036702</td>\n",
       "      <td>11.651585</td>\n",
       "      <td>109.700167</td>\n",
       "      <td>0.991405</td>\n",
       "      <td>3.473987</td>\n",
       "      <td>0.430000</td>\n",
       "      <td>11.454942</td>\n",
       "    </tr>\n",
       "    <tr>\n",
       "      <th>...</th>\n",
       "      <td>...</td>\n",
       "      <td>...</td>\n",
       "      <td>...</td>\n",
       "      <td>...</td>\n",
       "      <td>...</td>\n",
       "      <td>...</td>\n",
       "      <td>...</td>\n",
       "      <td>...</td>\n",
       "      <td>...</td>\n",
       "      <td>...</td>\n",
       "      <td>...</td>\n",
       "      <td>...</td>\n",
       "    </tr>\n",
       "    <tr>\n",
       "      <th>12252</th>\n",
       "      <td>1</td>\n",
       "      <td>5.431674</td>\n",
       "      <td>0.283713</td>\n",
       "      <td>0.284852</td>\n",
       "      <td>5.034163</td>\n",
       "      <td>0.033713</td>\n",
       "      <td>61.940674</td>\n",
       "      <td>138.514832</td>\n",
       "      <td>0.989737</td>\n",
       "      <td>3.182278</td>\n",
       "      <td>0.360593</td>\n",
       "      <td>12.425742</td>\n",
       "    </tr>\n",
       "    <tr>\n",
       "      <th>1346</th>\n",
       "      <td>1</td>\n",
       "      <td>9.300000</td>\n",
       "      <td>0.310000</td>\n",
       "      <td>0.490000</td>\n",
       "      <td>1.300000</td>\n",
       "      <td>0.042000</td>\n",
       "      <td>34.000000</td>\n",
       "      <td>147.000000</td>\n",
       "      <td>0.994800</td>\n",
       "      <td>3.110000</td>\n",
       "      <td>0.460000</td>\n",
       "      <td>9.800000</td>\n",
       "    </tr>\n",
       "    <tr>\n",
       "      <th>11646</th>\n",
       "      <td>1</td>\n",
       "      <td>6.537867</td>\n",
       "      <td>0.424603</td>\n",
       "      <td>0.283515</td>\n",
       "      <td>4.798640</td>\n",
       "      <td>0.034649</td>\n",
       "      <td>29.324265</td>\n",
       "      <td>134.000000</td>\n",
       "      <td>0.991254</td>\n",
       "      <td>3.260816</td>\n",
       "      <td>0.447029</td>\n",
       "      <td>12.156910</td>\n",
       "    </tr>\n",
       "    <tr>\n",
       "      <th>15725</th>\n",
       "      <td>1</td>\n",
       "      <td>6.769087</td>\n",
       "      <td>0.326183</td>\n",
       "      <td>0.357635</td>\n",
       "      <td>1.802904</td>\n",
       "      <td>0.024720</td>\n",
       "      <td>26.367218</td>\n",
       "      <td>94.468871</td>\n",
       "      <td>0.989870</td>\n",
       "      <td>3.396473</td>\n",
       "      <td>0.545747</td>\n",
       "      <td>12.569087</td>\n",
       "    </tr>\n",
       "    <tr>\n",
       "      <th>3582</th>\n",
       "      <td>1</td>\n",
       "      <td>6.600000</td>\n",
       "      <td>0.380000</td>\n",
       "      <td>0.290000</td>\n",
       "      <td>2.900000</td>\n",
       "      <td>0.035000</td>\n",
       "      <td>15.000000</td>\n",
       "      <td>101.000000</td>\n",
       "      <td>0.989160</td>\n",
       "      <td>3.040000</td>\n",
       "      <td>0.370000</td>\n",
       "      <td>12.500000</td>\n",
       "    </tr>\n",
       "  </tbody>\n",
       "</table>\n",
       "<p>15474 rows × 12 columns</p>\n",
       "</div>"
      ],
      "text/plain": [
       "       type  fixed acidity  volatile acidity  citric acid  residual sugar  \\\n",
       "9475      1       9.840636          0.463185     0.834790        5.689934   \n",
       "15795     1       7.536265          0.333971     0.371813        6.050952   \n",
       "4319      0       7.700000          0.260000     0.300000        1.700000   \n",
       "12399     1       5.864667          0.310267     0.257533        4.508000   \n",
       "7137      1       5.940033          0.236499     0.408492        2.519766   \n",
       "...     ...            ...               ...          ...             ...   \n",
       "12252     1       5.431674          0.283713     0.284852        5.034163   \n",
       "1346      1       9.300000          0.310000     0.490000        1.300000   \n",
       "11646     1       6.537867          0.424603     0.283515        4.798640   \n",
       "15725     1       6.769087          0.326183     0.357635        1.802904   \n",
       "3582      1       6.600000          0.380000     0.290000        2.900000   \n",
       "\n",
       "       chlorides  free sulfur dioxide  total sulfur dioxide   density  \\\n",
       "9475    0.049116            19.652228            124.463696  0.996545   \n",
       "15795   0.022917            48.612872            120.446057  0.991882   \n",
       "4319    0.059000            20.000000             38.000000  0.994900   \n",
       "12399   0.029513            35.460000            100.513333  0.990859   \n",
       "7137    0.036702            11.651585            109.700167  0.991405   \n",
       "...          ...                  ...                   ...       ...   \n",
       "12252   0.033713            61.940674            138.514832  0.989737   \n",
       "1346    0.042000            34.000000            147.000000  0.994800   \n",
       "11646   0.034649            29.324265            134.000000  0.991254   \n",
       "15725   0.024720            26.367218             94.468871  0.989870   \n",
       "3582    0.035000            15.000000            101.000000  0.989160   \n",
       "\n",
       "             pH  sulphates    alcohol  \n",
       "9475   3.027096   0.518115   9.981147  \n",
       "15795  3.256863   0.388921  12.034814  \n",
       "4319   3.290000   0.470000  10.800000  \n",
       "12399  3.330800   0.483200  12.159333  \n",
       "7137   3.473987   0.430000  11.454942  \n",
       "...         ...        ...        ...  \n",
       "12252  3.182278   0.360593  12.425742  \n",
       "1346   3.110000   0.460000   9.800000  \n",
       "11646  3.260816   0.447029  12.156910  \n",
       "15725  3.396473   0.545747  12.569087  \n",
       "3582   3.040000   0.370000  12.500000  \n",
       "\n",
       "[15474 rows x 12 columns]"
      ]
     },
     "execution_count": 33,
     "metadata": {},
     "output_type": "execute_result"
    }
   ],
   "source": [
    "X_train"
   ]
  },
  {
   "cell_type": "code",
   "execution_count": 34,
   "id": "e3521a8d",
   "metadata": {
    "ExecuteTime": {
     "end_time": "2023-05-10T01:59:40.291041Z",
     "start_time": "2023-05-10T01:59:40.251012Z"
    }
   },
   "outputs": [
    {
     "data": {
      "text/html": [
       "<div>\n",
       "<style scoped>\n",
       "    .dataframe tbody tr th:only-of-type {\n",
       "        vertical-align: middle;\n",
       "    }\n",
       "\n",
       "    .dataframe tbody tr th {\n",
       "        vertical-align: top;\n",
       "    }\n",
       "\n",
       "    .dataframe thead th {\n",
       "        text-align: right;\n",
       "    }\n",
       "</style>\n",
       "<table border=\"1\" class=\"dataframe\">\n",
       "  <thead>\n",
       "    <tr style=\"text-align: right;\">\n",
       "      <th></th>\n",
       "      <th>type</th>\n",
       "      <th>fixed acidity</th>\n",
       "      <th>volatile acidity</th>\n",
       "      <th>citric acid</th>\n",
       "      <th>residual sugar</th>\n",
       "      <th>chlorides</th>\n",
       "      <th>free sulfur dioxide</th>\n",
       "      <th>total sulfur dioxide</th>\n",
       "      <th>density</th>\n",
       "      <th>pH</th>\n",
       "      <th>sulphates</th>\n",
       "      <th>alcohol</th>\n",
       "    </tr>\n",
       "  </thead>\n",
       "  <tbody>\n",
       "    <tr>\n",
       "      <th>2001</th>\n",
       "      <td>1</td>\n",
       "      <td>8.000000</td>\n",
       "      <td>0.360000</td>\n",
       "      <td>0.390000</td>\n",
       "      <td>1.600000</td>\n",
       "      <td>0.024000</td>\n",
       "      <td>26.000000</td>\n",
       "      <td>93.000000</td>\n",
       "      <td>0.991160</td>\n",
       "      <td>3.150000</td>\n",
       "      <td>0.490000</td>\n",
       "      <td>11.900000</td>\n",
       "    </tr>\n",
       "    <tr>\n",
       "      <th>174</th>\n",
       "      <td>1</td>\n",
       "      <td>6.900000</td>\n",
       "      <td>0.540000</td>\n",
       "      <td>0.320000</td>\n",
       "      <td>13.200000</td>\n",
       "      <td>0.050000</td>\n",
       "      <td>53.000000</td>\n",
       "      <td>236.000000</td>\n",
       "      <td>0.997300</td>\n",
       "      <td>3.200000</td>\n",
       "      <td>0.500000</td>\n",
       "      <td>9.600000</td>\n",
       "    </tr>\n",
       "    <tr>\n",
       "      <th>9225</th>\n",
       "      <td>1</td>\n",
       "      <td>7.937693</td>\n",
       "      <td>0.253677</td>\n",
       "      <td>0.363146</td>\n",
       "      <td>9.107778</td>\n",
       "      <td>0.053813</td>\n",
       "      <td>23.124613</td>\n",
       "      <td>159.124613</td>\n",
       "      <td>0.997741</td>\n",
       "      <td>3.322492</td>\n",
       "      <td>0.478100</td>\n",
       "      <td>9.849845</td>\n",
       "    </tr>\n",
       "    <tr>\n",
       "      <th>12694</th>\n",
       "      <td>1</td>\n",
       "      <td>5.735459</td>\n",
       "      <td>0.252072</td>\n",
       "      <td>0.289362</td>\n",
       "      <td>1.985654</td>\n",
       "      <td>0.031809</td>\n",
       "      <td>16.936240</td>\n",
       "      <td>70.968120</td>\n",
       "      <td>0.989624</td>\n",
       "      <td>3.305459</td>\n",
       "      <td>0.374183</td>\n",
       "      <td>12.222707</td>\n",
       "    </tr>\n",
       "    <tr>\n",
       "      <th>11613</th>\n",
       "      <td>1</td>\n",
       "      <td>6.387059</td>\n",
       "      <td>0.372588</td>\n",
       "      <td>0.255333</td>\n",
       "      <td>1.837647</td>\n",
       "      <td>0.024871</td>\n",
       "      <td>6.454901</td>\n",
       "      <td>57.870586</td>\n",
       "      <td>0.989388</td>\n",
       "      <td>3.083647</td>\n",
       "      <td>0.708941</td>\n",
       "      <td>12.937647</td>\n",
       "    </tr>\n",
       "    <tr>\n",
       "      <th>...</th>\n",
       "      <td>...</td>\n",
       "      <td>...</td>\n",
       "      <td>...</td>\n",
       "      <td>...</td>\n",
       "      <td>...</td>\n",
       "      <td>...</td>\n",
       "      <td>...</td>\n",
       "      <td>...</td>\n",
       "      <td>...</td>\n",
       "      <td>...</td>\n",
       "      <td>...</td>\n",
       "      <td>...</td>\n",
       "    </tr>\n",
       "    <tr>\n",
       "      <th>11753</th>\n",
       "      <td>0</td>\n",
       "      <td>9.341709</td>\n",
       "      <td>0.404909</td>\n",
       "      <td>0.468161</td>\n",
       "      <td>4.530051</td>\n",
       "      <td>0.094816</td>\n",
       "      <td>3.000000</td>\n",
       "      <td>10.000000</td>\n",
       "      <td>0.996328</td>\n",
       "      <td>3.263005</td>\n",
       "      <td>0.634171</td>\n",
       "      <td>12.188342</td>\n",
       "    </tr>\n",
       "    <tr>\n",
       "      <th>1533</th>\n",
       "      <td>1</td>\n",
       "      <td>7.500000</td>\n",
       "      <td>0.330000</td>\n",
       "      <td>0.390000</td>\n",
       "      <td>12.400000</td>\n",
       "      <td>0.065000</td>\n",
       "      <td>29.000000</td>\n",
       "      <td>119.000000</td>\n",
       "      <td>0.997400</td>\n",
       "      <td>3.160000</td>\n",
       "      <td>0.390000</td>\n",
       "      <td>9.400000</td>\n",
       "    </tr>\n",
       "    <tr>\n",
       "      <th>10221</th>\n",
       "      <td>1</td>\n",
       "      <td>7.592529</td>\n",
       "      <td>0.319502</td>\n",
       "      <td>0.583984</td>\n",
       "      <td>16.669069</td>\n",
       "      <td>0.049726</td>\n",
       "      <td>43.074706</td>\n",
       "      <td>163.049804</td>\n",
       "      <td>0.999858</td>\n",
       "      <td>3.146763</td>\n",
       "      <td>0.536514</td>\n",
       "      <td>9.187549</td>\n",
       "    </tr>\n",
       "    <tr>\n",
       "      <th>12830</th>\n",
       "      <td>1</td>\n",
       "      <td>6.358294</td>\n",
       "      <td>0.300314</td>\n",
       "      <td>0.489597</td>\n",
       "      <td>6.065461</td>\n",
       "      <td>0.034803</td>\n",
       "      <td>36.322867</td>\n",
       "      <td>113.677133</td>\n",
       "      <td>0.991058</td>\n",
       "      <td>3.199911</td>\n",
       "      <td>0.528969</td>\n",
       "      <td>12.300000</td>\n",
       "    </tr>\n",
       "    <tr>\n",
       "      <th>12379</th>\n",
       "      <td>1</td>\n",
       "      <td>6.919046</td>\n",
       "      <td>0.245952</td>\n",
       "      <td>0.315952</td>\n",
       "      <td>5.238092</td>\n",
       "      <td>0.055214</td>\n",
       "      <td>31.392846</td>\n",
       "      <td>155.861102</td>\n",
       "      <td>0.992133</td>\n",
       "      <td>3.237976</td>\n",
       "      <td>0.458095</td>\n",
       "      <td>11.934128</td>\n",
       "    </tr>\n",
       "  </tbody>\n",
       "</table>\n",
       "<p>815 rows × 12 columns</p>\n",
       "</div>"
      ],
      "text/plain": [
       "       type  fixed acidity  volatile acidity  citric acid  residual sugar  \\\n",
       "2001      1       8.000000          0.360000     0.390000        1.600000   \n",
       "174       1       6.900000          0.540000     0.320000       13.200000   \n",
       "9225      1       7.937693          0.253677     0.363146        9.107778   \n",
       "12694     1       5.735459          0.252072     0.289362        1.985654   \n",
       "11613     1       6.387059          0.372588     0.255333        1.837647   \n",
       "...     ...            ...               ...          ...             ...   \n",
       "11753     0       9.341709          0.404909     0.468161        4.530051   \n",
       "1533      1       7.500000          0.330000     0.390000       12.400000   \n",
       "10221     1       7.592529          0.319502     0.583984       16.669069   \n",
       "12830     1       6.358294          0.300314     0.489597        6.065461   \n",
       "12379     1       6.919046          0.245952     0.315952        5.238092   \n",
       "\n",
       "       chlorides  free sulfur dioxide  total sulfur dioxide   density  \\\n",
       "2001    0.024000            26.000000             93.000000  0.991160   \n",
       "174     0.050000            53.000000            236.000000  0.997300   \n",
       "9225    0.053813            23.124613            159.124613  0.997741   \n",
       "12694   0.031809            16.936240             70.968120  0.989624   \n",
       "11613   0.024871             6.454901             57.870586  0.989388   \n",
       "...          ...                  ...                   ...       ...   \n",
       "11753   0.094816             3.000000             10.000000  0.996328   \n",
       "1533    0.065000            29.000000            119.000000  0.997400   \n",
       "10221   0.049726            43.074706            163.049804  0.999858   \n",
       "12830   0.034803            36.322867            113.677133  0.991058   \n",
       "12379   0.055214            31.392846            155.861102  0.992133   \n",
       "\n",
       "             pH  sulphates    alcohol  \n",
       "2001   3.150000   0.490000  11.900000  \n",
       "174    3.200000   0.500000   9.600000  \n",
       "9225   3.322492   0.478100   9.849845  \n",
       "12694  3.305459   0.374183  12.222707  \n",
       "11613  3.083647   0.708941  12.937647  \n",
       "...         ...        ...        ...  \n",
       "11753  3.263005   0.634171  12.188342  \n",
       "1533   3.160000   0.390000   9.400000  \n",
       "10221  3.146763   0.536514   9.187549  \n",
       "12830  3.199911   0.528969  12.300000  \n",
       "12379  3.237976   0.458095  11.934128  \n",
       "\n",
       "[815 rows x 12 columns]"
      ]
     },
     "execution_count": 34,
     "metadata": {},
     "output_type": "execute_result"
    }
   ],
   "source": [
    "X_test"
   ]
  },
  {
   "cell_type": "code",
   "execution_count": 35,
   "id": "5189346d",
   "metadata": {
    "ExecuteTime": {
     "end_time": "2023-05-10T01:59:40.306394Z",
     "start_time": "2023-05-10T01:59:40.295030Z"
    }
   },
   "outputs": [
    {
     "data": {
      "text/plain": [
       "array([[ 0.55450683,  2.12594057,  0.47498519, ..., -1.47354046,\n",
       "         0.02402114, -0.76184322],\n",
       "       [ 0.55450683,  0.21155198, -0.18557012, ...,  0.06697834,\n",
       "        -0.96772029,  0.87212824],\n",
       "       [-1.80340431,  0.34757722, -0.56371795, ...,  0.28915095,\n",
       "        -0.34532642, -0.11033416],\n",
       "       ...,\n",
       "       [ 0.55450683, -0.61788091,  0.27775009, ...,  0.09348219,\n",
       "        -0.52165802,  0.96927252],\n",
       "       [ 0.55450683, -0.42579194, -0.22538517, ...,  1.00301945,\n",
       "         0.23613749,  1.29721508],\n",
       "       [ 0.55450683, -0.56626335,  0.04973531, ..., -1.387021  ,\n",
       "        -1.11296649,  1.24224699]])"
      ]
     },
     "execution_count": 35,
     "metadata": {},
     "output_type": "execute_result"
    }
   ],
   "source": [
    "X_train_scaled"
   ]
  },
  {
   "cell_type": "code",
   "execution_count": 36,
   "id": "b6aea0d5",
   "metadata": {
    "ExecuteTime": {
     "end_time": "2023-05-10T01:59:40.322201Z",
     "start_time": "2023-05-10T01:59:40.310543Z"
    }
   },
   "outputs": [],
   "source": [
    "# converting the Scaled data to dataframe because it will give np arrays as output\n",
    "X_train_scaled = pd.DataFrame(X_train_scaled, columns=X_train.columns)\n",
    "X_test_scaled = pd.DataFrame(X_test_scaled, columns=X_test.columns)"
   ]
  },
  {
   "cell_type": "code",
   "execution_count": 37,
   "id": "6d7d532d",
   "metadata": {
    "ExecuteTime": {
     "end_time": "2023-05-10T01:59:41.903169Z",
     "start_time": "2023-05-10T01:59:40.326666Z"
    }
   },
   "outputs": [
    {
     "data": {
      "image/png": "[encoded data removed]",
      "text/plain": [
       "<Figure size 864x360 with 2 Axes>"
      ]
     },
     "metadata": {
      "needs_background": "light"
     },
     "output_type": "display_data"
    }
   ],
   "source": [
    "fig, (ax1, ax2) = plt.subplots(ncols=2, figsize=(12, 5))\n",
    "\n",
    "ax1.scatter(X_train, X_train)\n",
    "ax1.set_title(\"Before Scaling\")\n",
    "ax2.scatter(X_train_scaled, X_train_scaled,color='red')\n",
    "ax2.set_title(\"After Scaling\")\n",
    "plt.show()\n",
    "\n",
    "\n",
    "# below we can observe that the origin has changed after scaling "
   ]
  },
  {
   "cell_type": "markdown",
   "id": "0ef0fd01",
   "metadata": {},
   "source": [
    "# LDA"
   ]
  },
  {
   "cell_type": "code",
   "execution_count": 38,
   "id": "bf785e24",
   "metadata": {
    "ExecuteTime": {
     "end_time": "2023-05-10T01:59:41.944525Z",
     "start_time": "2023-05-10T01:59:41.904743Z"
    }
   },
   "outputs": [],
   "source": [
    "from sklearn.discriminant_analysis import LinearDiscriminantAnalysis as LDA"
   ]
  },
  {
   "cell_type": "code",
   "execution_count": 39,
   "id": "f2804f71",
   "metadata": {
    "ExecuteTime": {
     "end_time": "2023-05-10T01:59:41.959326Z",
     "start_time": "2023-05-10T01:59:41.945896Z"
    }
   },
   "outputs": [
    {
     "data": {
      "text/plain": [
       "(15474, 12)"
      ]
     },
     "execution_count": 39,
     "metadata": {},
     "output_type": "execute_result"
    }
   ],
   "source": [
    "X_train.shape"
   ]
  },
  {
   "cell_type": "code",
   "execution_count": 40,
   "id": "a8b82dbb",
   "metadata": {
    "ExecuteTime": {
     "end_time": "2023-05-10T01:59:42.054320Z",
     "start_time": "2023-05-10T01:59:41.963601Z"
    }
   },
   "outputs": [],
   "source": [
    "lda = LDA(n_components=6)\n",
    "x_train_LDA = lda.fit_transform(X_train,y_train)\n",
    "x_test_LDA = lda.transform(X_test)"
   ]
  },
  {
   "cell_type": "code",
   "execution_count": 41,
   "id": "17bbd837",
   "metadata": {
    "ExecuteTime": {
     "end_time": "2023-05-10T01:59:42.391442Z",
     "start_time": "2023-05-10T01:59:42.185977Z"
    }
   },
   "outputs": [
    {
     "data": {
      "text/plain": [
       "Text(0, 0.5, 'comulative explained variance')"
      ]
     },
     "execution_count": 41,
     "metadata": {},
     "output_type": "execute_result"
    },
    {
     "data": {
      "image/png": "[encoded data removed]",
      "text/plain": [
       "<Figure size 432x288 with 1 Axes>"
      ]
     },
     "metadata": {
      "needs_background": "light"
     },
     "output_type": "display_data"
    }
   ],
   "source": [
    "plt.plot(np.cumsum(lda.explained_variance_ratio_))\n",
    "plt.title(\"LDA\")\n",
    "plt.xlabel('Number of components')\n",
    "plt.ylabel('comulative explained variance')"
   ]
  },
  {
   "cell_type": "code",
   "execution_count": 42,
   "id": "978c37b9",
   "metadata": {
    "ExecuteTime": {
     "end_time": "2023-05-10T01:59:42.414462Z",
     "start_time": "2023-05-10T01:59:42.397134Z"
    }
   },
   "outputs": [
    {
     "data": {
      "text/plain": [
       "array([0.72623413, 0.9236767 , 0.96849446, 0.99101049, 0.99826155,\n",
       "       1.        ])"
      ]
     },
     "execution_count": 42,
     "metadata": {},
     "output_type": "execute_result"
    }
   ],
   "source": [
    "np.cumsum(lda.explained_variance_ratio_)"
   ]
  },
  {
   "cell_type": "markdown",
   "id": "07c2a79b",
   "metadata": {},
   "source": [
    "## Model Building"
   ]
  },
  {
   "cell_type": "markdown",
   "id": "4cd0a926",
   "metadata": {},
   "source": [
    " # Model on original data"
   ]
  },
  {
   "cell_type": "code",
   "execution_count": 43,
   "id": "b4c80668",
   "metadata": {
    "ExecuteTime": {
     "end_time": "2023-05-10T01:59:42.429990Z",
     "start_time": "2023-05-10T01:59:42.420982Z"
    }
   },
   "outputs": [],
   "source": [
    "from sklearn.metrics import classification_report,confusion_matrix,roc_curve"
   ]
  },
  {
   "cell_type": "markdown",
   "id": "8d658b6d",
   "metadata": {},
   "source": [
    "# Extra tree"
   ]
  },
  {
   "cell_type": "code",
   "execution_count": 44,
   "id": "88b0a919",
   "metadata": {
    "ExecuteTime": {
     "end_time": "2023-05-10T01:59:45.697423Z",
     "start_time": "2023-05-10T01:59:42.435224Z"
    }
   },
   "outputs": [
    {
     "data": {
      "text/html": [
       "<style>#sk-container-id-1 {color: black;background-color: white;}#sk-container-id-1 pre{padding: 0;}#sk-container-id-1 div.sk-toggleable {background-color: white;}#sk-container-id-1 label.sk-toggleable__label {cursor: pointer;display: block;width: 100%;margin-bottom: 0;padding: 0.3em;box-sizing: border-box;text-align: center;}#sk-container-id-1 label.sk-toggleable__label-arrow:before {content: \"▸\";float: left;margin-right: 0.25em;color: #696969;}#sk-container-id-1 label.sk-toggleable__label-arrow:hover:before {color: black;}#sk-container-id-1 div.sk-estimator:hover label.sk-toggleable__label-arrow:before {color: black;}#sk-container-id-1 div.sk-toggleable__content {max-height: 0;max-width: 0;overflow: hidden;text-align: left;background-color: #f0f8ff;}#sk-container-id-1 div.sk-toggleable__content pre {margin: 0.2em;color: black;border-radius: 0.25em;background-color: #f0f8ff;}#sk-container-id-1 input.sk-toggleable__control:checked~div.sk-toggleable__content {max-height: 200px;max-width: 100%;overflow: auto;}#sk-container-id-1 input.sk-toggleable__control:checked~label.sk-toggleable__label-arrow:before {content: \"▾\";}#sk-container-id-1 div.sk-estimator input.sk-toggleable__control:checked~label.sk-toggleable__label {background-color: #d4ebff;}#sk-container-id-1 div.sk-label input.sk-toggleable__control:checked~label.sk-toggleable__label {background-color: #d4ebff;}#sk-container-id-1 input.sk-hidden--visually {border: 0;clip: rect(1px 1px 1px 1px);clip: rect(1px, 1px, 1px, 1px);height: 1px;margin: -1px;overflow: hidden;padding: 0;position: absolute;width: 1px;}#sk-container-id-1 div.sk-estimator {font-family: monospace;background-color: #f0f8ff;border: 1px dotted black;border-radius: 0.25em;box-sizing: border-box;margin-bottom: 0.5em;}#sk-container-id-1 div.sk-estimator:hover {background-color: #d4ebff;}#sk-container-id-1 div.sk-parallel-item::after {content: \"\";width: 100%;border-bottom: 1px solid gray;flex-grow: 1;}#sk-container-id-1 div.sk-label:hover label.sk-toggleable__label {background-color: #d4ebff;}#sk-container-id-1 div.sk-serial::before {content: \"\";position: absolute;border-left: 1px solid gray;box-sizing: border-box;top: 0;bottom: 0;left: 50%;z-index: 0;}#sk-container-id-1 div.sk-serial {display: flex;flex-direction: column;align-items: center;background-color: white;padding-right: 0.2em;padding-left: 0.2em;position: relative;}#sk-container-id-1 div.sk-item {position: relative;z-index: 1;}#sk-container-id-1 div.sk-parallel {display: flex;align-items: stretch;justify-content: center;background-color: white;position: relative;}#sk-container-id-1 div.sk-item::before, #sk-container-id-1 div.sk-parallel-item::before {content: \"\";position: absolute;border-left: 1px solid gray;box-sizing: border-box;top: 0;bottom: 0;left: 50%;z-index: -1;}#sk-container-id-1 div.sk-parallel-item {display: flex;flex-direction: column;z-index: 1;position: relative;background-color: white;}#sk-container-id-1 div.sk-parallel-item:first-child::after {align-self: flex-end;width: 50%;}#sk-container-id-1 div.sk-parallel-item:last-child::after {align-self: flex-start;width: 50%;}#sk-container-id-1 div.sk-parallel-item:only-child::after {width: 0;}#sk-container-id-1 div.sk-dashed-wrapped {border: 1px dashed gray;margin: 0 0.4em 0.5em 0.4em;box-sizing: border-box;padding-bottom: 0.4em;background-color: white;}#sk-container-id-1 div.sk-label label {font-family: monospace;font-weight: bold;display: inline-block;line-height: 1.2em;}#sk-container-id-1 div.sk-label-container {text-align: center;}#sk-container-id-1 div.sk-container {/* jupyter's `normalize.less` sets `[hidden] { display: none; }` but bootstrap.min.css set `[hidden] { display: none !important; }` so we also need the `!important` here to be able to override the default hidden behavior on the sphinx rendered scikit-learn.org. See: https://github.com/scikit-learn/scikit-learn/issues/21755 */display: inline-block !important;position: relative;}#sk-container-id-1 div.sk-text-repr-fallback {display: none;}</style><div id=\"sk-container-id-1\" class=\"sk-top-container\"><div class=\"sk-text-repr-fallback\"><pre>ExtraTreesClassifier()</pre><b>In a Jupyter environment, please rerun this cell to show the HTML representation or trust the notebook. <br />On GitHub, the HTML representation is unable to render, please try loading this page with nbviewer.org.</b></div><div class=\"sk-container\" hidden><div class=\"sk-item\"><div class=\"sk-estimator sk-toggleable\"><input class=\"sk-toggleable__control sk-hidden--visually\" id=\"sk-estimator-id-1\" type=\"checkbox\" checked><label for=\"sk-estimator-id-1\" class=\"sk-toggleable__label sk-toggleable__label-arrow\">ExtraTreesClassifier</label><div class=\"sk-toggleable__content\"><pre>ExtraTreesClassifier()</pre></div></div></div></div></div>"
      ],
      "text/plain": [
       "ExtraTreesClassifier()"
      ]
     },
     "execution_count": 44,
     "metadata": {},
     "output_type": "execute_result"
    }
   ],
   "source": [
    "# Extra Trees\n",
    "from sklearn.ensemble import ExtraTreesClassifier\n",
    "\n",
    "etc = ExtraTreesClassifier()\n",
    "etc.fit(X_train, y_train)\n"
   ]
  },
  {
   "cell_type": "code",
   "execution_count": 45,
   "id": "b777f96b",
   "metadata": {
    "ExecuteTime": {
     "end_time": "2023-05-10T01:59:46.700647Z",
     "start_time": "2023-05-10T01:59:45.699942Z"
    }
   },
   "outputs": [],
   "source": [
    "y_train_ = etc.predict(X_train)\n",
    "y_test_  = etc.predict(X_test)"
   ]
  },
  {
   "cell_type": "code",
   "execution_count": 46,
   "id": "fc44d228",
   "metadata": {
    "ExecuteTime": {
     "end_time": "2023-05-10T01:59:46.731519Z",
     "start_time": "2023-05-10T01:59:46.701903Z"
    }
   },
   "outputs": [
    {
     "name": "stdout",
     "output_type": "stream",
     "text": [
      "Test performance\n",
      "-------------------------------------------------------\n",
      "              precision    recall  f1-score   support\n",
      "\n",
      "           3     0.9857    1.0000    0.9928       138\n",
      "           4     0.9385    0.9531    0.9457       128\n",
      "           5     0.7477    0.6803    0.7124       122\n",
      "           6     0.6392    0.5536    0.5933       112\n",
      "           7     0.7419    0.9020    0.8142       102\n",
      "           8     0.9810    0.9810    0.9810       105\n",
      "           9     1.0000    1.0000    1.0000       108\n",
      "\n",
      "    accuracy                         0.8687       815\n",
      "   macro avg     0.8620    0.8671    0.8628       815\n",
      "weighted avg     0.8658    0.8687    0.8656       815\n",
      "\n"
     ]
    }
   ],
   "source": [
    "print('Test performance')\n",
    "print('-------------------------------------------------------')\n",
    "print(classification_report(y_test, y_test_,digits=4))\n"
   ]
  },
  {
   "cell_type": "code",
   "execution_count": 47,
   "id": "e29c5e34",
   "metadata": {
    "ExecuteTime": {
     "end_time": "2023-05-10T01:59:47.451931Z",
     "start_time": "2023-05-10T01:59:46.736297Z"
    }
   },
   "outputs": [
    {
     "name": "stdout",
     "output_type": "stream",
     "text": [
      "Confusion matrix\n",
      "-------------------------------------------------------\n"
     ]
    },
    {
     "data": {
      "text/plain": [
       "<AxesSubplot:>"
      ]
     },
     "execution_count": 47,
     "metadata": {},
     "output_type": "execute_result"
    },
    {
     "data": {
      "image/png": "[encoded data removed]",
      "text/plain": [
       "<Figure size 1080x864 with 2 Axes>"
      ]
     },
     "metadata": {
      "needs_background": "light"
     },
     "output_type": "display_data"
    }
   ],
   "source": [
    "\n",
    "plt.figure(figsize=(15, 12))\n",
    "print('Confusion matrix')\n",
    "print('-------------------------------------------------------')\n",
    "cr = confusion_matrix(y_test, y_test_)\n",
    "sns.heatmap(cr,annot=True)\n"
   ]
  },
  {
   "cell_type": "markdown",
   "id": "e7d48997",
   "metadata": {},
   "source": [
    "# Boruta selected data (new data)"
   ]
  },
  {
   "cell_type": "code",
   "execution_count": 48,
   "id": "0c373c9e",
   "metadata": {
    "ExecuteTime": {
     "end_time": "2023-05-10T01:59:50.719798Z",
     "start_time": "2023-05-10T01:59:47.454776Z"
    }
   },
   "outputs": [
    {
     "data": {
      "text/html": [
       "<style>#sk-container-id-2 {color: black;background-color: white;}#sk-container-id-2 pre{padding: 0;}#sk-container-id-2 div.sk-toggleable {background-color: white;}#sk-container-id-2 label.sk-toggleable__label {cursor: pointer;display: block;width: 100%;margin-bottom: 0;padding: 0.3em;box-sizing: border-box;text-align: center;}#sk-container-id-2 label.sk-toggleable__label-arrow:before {content: \"▸\";float: left;margin-right: 0.25em;color: #696969;}#sk-container-id-2 label.sk-toggleable__label-arrow:hover:before {color: black;}#sk-container-id-2 div.sk-estimator:hover label.sk-toggleable__label-arrow:before {color: black;}#sk-container-id-2 div.sk-toggleable__content {max-height: 0;max-width: 0;overflow: hidden;text-align: left;background-color: #f0f8ff;}#sk-container-id-2 div.sk-toggleable__content pre {margin: 0.2em;color: black;border-radius: 0.25em;background-color: #f0f8ff;}#sk-container-id-2 input.sk-toggleable__control:checked~div.sk-toggleable__content {max-height: 200px;max-width: 100%;overflow: auto;}#sk-container-id-2 input.sk-toggleable__control:checked~label.sk-toggleable__label-arrow:before {content: \"▾\";}#sk-container-id-2 div.sk-estimator input.sk-toggleable__control:checked~label.sk-toggleable__label {background-color: #d4ebff;}#sk-container-id-2 div.sk-label input.sk-toggleable__control:checked~label.sk-toggleable__label {background-color: #d4ebff;}#sk-container-id-2 input.sk-hidden--visually {border: 0;clip: rect(1px 1px 1px 1px);clip: rect(1px, 1px, 1px, 1px);height: 1px;margin: -1px;overflow: hidden;padding: 0;position: absolute;width: 1px;}#sk-container-id-2 div.sk-estimator {font-family: monospace;background-color: #f0f8ff;border: 1px dotted black;border-radius: 0.25em;box-sizing: border-box;margin-bottom: 0.5em;}#sk-container-id-2 div.sk-estimator:hover {background-color: #d4ebff;}#sk-container-id-2 div.sk-parallel-item::after {content: \"\";width: 100%;border-bottom: 1px solid gray;flex-grow: 1;}#sk-container-id-2 div.sk-label:hover label.sk-toggleable__label {background-color: #d4ebff;}#sk-container-id-2 div.sk-serial::before {content: \"\";position: absolute;border-left: 1px solid gray;box-sizing: border-box;top: 0;bottom: 0;left: 50%;z-index: 0;}#sk-container-id-2 div.sk-serial {display: flex;flex-direction: column;align-items: center;background-color: white;padding-right: 0.2em;padding-left: 0.2em;position: relative;}#sk-container-id-2 div.sk-item {position: relative;z-index: 1;}#sk-container-id-2 div.sk-parallel {display: flex;align-items: stretch;justify-content: center;background-color: white;position: relative;}#sk-container-id-2 div.sk-item::before, #sk-container-id-2 div.sk-parallel-item::before {content: \"\";position: absolute;border-left: 1px solid gray;box-sizing: border-box;top: 0;bottom: 0;left: 50%;z-index: -1;}#sk-container-id-2 div.sk-parallel-item {display: flex;flex-direction: column;z-index: 1;position: relative;background-color: white;}#sk-container-id-2 div.sk-parallel-item:first-child::after {align-self: flex-end;width: 50%;}#sk-container-id-2 div.sk-parallel-item:last-child::after {align-self: flex-start;width: 50%;}#sk-container-id-2 div.sk-parallel-item:only-child::after {width: 0;}#sk-container-id-2 div.sk-dashed-wrapped {border: 1px dashed gray;margin: 0 0.4em 0.5em 0.4em;box-sizing: border-box;padding-bottom: 0.4em;background-color: white;}#sk-container-id-2 div.sk-label label {font-family: monospace;font-weight: bold;display: inline-block;line-height: 1.2em;}#sk-container-id-2 div.sk-label-container {text-align: center;}#sk-container-id-2 div.sk-container {/* jupyter's `normalize.less` sets `[hidden] { display: none; }` but bootstrap.min.css set `[hidden] { display: none !important; }` so we also need the `!important` here to be able to override the default hidden behavior on the sphinx rendered scikit-learn.org. See: https://github.com/scikit-learn/scikit-learn/issues/21755 */display: inline-block !important;position: relative;}#sk-container-id-2 div.sk-text-repr-fallback {display: none;}</style><div id=\"sk-container-id-2\" class=\"sk-top-container\"><div class=\"sk-text-repr-fallback\"><pre>ExtraTreesClassifier()</pre><b>In a Jupyter environment, please rerun this cell to show the HTML representation or trust the notebook. <br />On GitHub, the HTML representation is unable to render, please try loading this page with nbviewer.org.</b></div><div class=\"sk-container\" hidden><div class=\"sk-item\"><div class=\"sk-estimator sk-toggleable\"><input class=\"sk-toggleable__control sk-hidden--visually\" id=\"sk-estimator-id-2\" type=\"checkbox\" checked><label for=\"sk-estimator-id-2\" class=\"sk-toggleable__label sk-toggleable__label-arrow\">ExtraTreesClassifier</label><div class=\"sk-toggleable__content\"><pre>ExtraTreesClassifier()</pre></div></div></div></div></div>"
      ],
      "text/plain": [
       "ExtraTreesClassifier()"
      ]
     },
     "execution_count": 48,
     "metadata": {},
     "output_type": "execute_result"
    }
   ],
   "source": [
    "# Extra Trees\n",
    "from sklearn.ensemble import ExtraTreesClassifier\n",
    "\n",
    "etc1 = ExtraTreesClassifier()\n",
    "etc1.fit(x_train_LDA, y_train)\n"
   ]
  },
  {
   "cell_type": "code",
   "execution_count": 49,
   "id": "54846d7f",
   "metadata": {
    "ExecuteTime": {
     "end_time": "2023-05-10T01:59:50.812273Z",
     "start_time": "2023-05-10T01:59:50.719798Z"
    }
   },
   "outputs": [],
   "source": [
    "FS_pred  = etc1.predict(x_test_LDA)"
   ]
  },
  {
   "cell_type": "code",
   "execution_count": 50,
   "id": "8371be4b",
   "metadata": {
    "ExecuteTime": {
     "end_time": "2023-05-10T01:59:50.841550Z",
     "start_time": "2023-05-10T01:59:50.813229Z"
    }
   },
   "outputs": [
    {
     "name": "stdout",
     "output_type": "stream",
     "text": [
      "Test performance\n",
      "-------------------------------------------------------\n",
      "              precision    recall  f1-score   support\n",
      "\n",
      "           3     0.9855    0.9855    0.9855       138\n",
      "           4     0.8346    0.8672    0.8506       128\n",
      "           5     0.6810    0.6475    0.6639       122\n",
      "           6     0.5532    0.4643    0.5049       112\n",
      "           7     0.6525    0.7549    0.7000       102\n",
      "           8     0.8796    0.9048    0.8920       105\n",
      "           9     1.0000    1.0000    1.0000       108\n",
      "\n",
      "    accuracy                         0.8074       815\n",
      "   macro avg     0.7981    0.8035    0.7995       815\n",
      "weighted avg     0.8034    0.8074    0.8043       815\n",
      "\n"
     ]
    }
   ],
   "source": [
    "print('Test performance')\n",
    "print('-------------------------------------------------------')\n",
    "print(classification_report(y_test, FS_pred,digits=4))\n"
   ]
  },
  {
   "cell_type": "code",
   "execution_count": 51,
   "id": "b4217f18",
   "metadata": {
    "ExecuteTime": {
     "end_time": "2023-05-10T01:59:51.532300Z",
     "start_time": "2023-05-10T01:59:50.845933Z"
    }
   },
   "outputs": [
    {
     "name": "stdout",
     "output_type": "stream",
     "text": [
      "Confusion matrix\n",
      "-------------------------------------------------------\n"
     ]
    },
    {
     "data": {
      "text/plain": [
       "<AxesSubplot:>"
      ]
     },
     "execution_count": 51,
     "metadata": {},
     "output_type": "execute_result"
    },
    {
     "data": {
      "image/png": "[encoded data removed]",
      "text/plain": [
       "<Figure size 1080x864 with 2 Axes>"
      ]
     },
     "metadata": {
      "needs_background": "light"
     },
     "output_type": "display_data"
    }
   ],
   "source": [
    "\n",
    "plt.figure(figsize=(15, 12))\n",
    "print('Confusion matrix')\n",
    "print('-------------------------------------------------------')\n",
    "cr = confusion_matrix(y_test, FS_pred)\n",
    "sns.heatmap(cr,annot=True)\n"
   ]
  },
  {
   "cell_type": "markdown",
   "id": "4a5b1fef",
   "metadata": {},
   "source": [
    "# DTC"
   ]
  },
  {
   "cell_type": "code",
   "execution_count": 52,
   "id": "eb7fe29e",
   "metadata": {
    "ExecuteTime": {
     "end_time": "2023-05-10T01:59:52.138606Z",
     "start_time": "2023-05-10T01:59:51.536482Z"
    }
   },
   "outputs": [
    {
     "data": {
      "text/html": [
       "<style>#sk-container-id-3 {color: black;background-color: white;}#sk-container-id-3 pre{padding: 0;}#sk-container-id-3 div.sk-toggleable {background-color: white;}#sk-container-id-3 label.sk-toggleable__label {cursor: pointer;display: block;width: 100%;margin-bottom: 0;padding: 0.3em;box-sizing: border-box;text-align: center;}#sk-container-id-3 label.sk-toggleable__label-arrow:before {content: \"▸\";float: left;margin-right: 0.25em;color: #696969;}#sk-container-id-3 label.sk-toggleable__label-arrow:hover:before {color: black;}#sk-container-id-3 div.sk-estimator:hover label.sk-toggleable__label-arrow:before {color: black;}#sk-container-id-3 div.sk-toggleable__content {max-height: 0;max-width: 0;overflow: hidden;text-align: left;background-color: #f0f8ff;}#sk-container-id-3 div.sk-toggleable__content pre {margin: 0.2em;color: black;border-radius: 0.25em;background-color: #f0f8ff;}#sk-container-id-3 input.sk-toggleable__control:checked~div.sk-toggleable__content {max-height: 200px;max-width: 100%;overflow: auto;}#sk-container-id-3 input.sk-toggleable__control:checked~label.sk-toggleable__label-arrow:before {content: \"▾\";}#sk-container-id-3 div.sk-estimator input.sk-toggleable__control:checked~label.sk-toggleable__label {background-color: #d4ebff;}#sk-container-id-3 div.sk-label input.sk-toggleable__control:checked~label.sk-toggleable__label {background-color: #d4ebff;}#sk-container-id-3 input.sk-hidden--visually {border: 0;clip: rect(1px 1px 1px 1px);clip: rect(1px, 1px, 1px, 1px);height: 1px;margin: -1px;overflow: hidden;padding: 0;position: absolute;width: 1px;}#sk-container-id-3 div.sk-estimator {font-family: monospace;background-color: #f0f8ff;border: 1px dotted black;border-radius: 0.25em;box-sizing: border-box;margin-bottom: 0.5em;}#sk-container-id-3 div.sk-estimator:hover {background-color: #d4ebff;}#sk-container-id-3 div.sk-parallel-item::after {content: \"\";width: 100%;border-bottom: 1px solid gray;flex-grow: 1;}#sk-container-id-3 div.sk-label:hover label.sk-toggleable__label {background-color: #d4ebff;}#sk-container-id-3 div.sk-serial::before {content: \"\";position: absolute;border-left: 1px solid gray;box-sizing: border-box;top: 0;bottom: 0;left: 50%;z-index: 0;}#sk-container-id-3 div.sk-serial {display: flex;flex-direction: column;align-items: center;background-color: white;padding-right: 0.2em;padding-left: 0.2em;position: relative;}#sk-container-id-3 div.sk-item {position: relative;z-index: 1;}#sk-container-id-3 div.sk-parallel {display: flex;align-items: stretch;justify-content: center;background-color: white;position: relative;}#sk-container-id-3 div.sk-item::before, #sk-container-id-3 div.sk-parallel-item::before {content: \"\";position: absolute;border-left: 1px solid gray;box-sizing: border-box;top: 0;bottom: 0;left: 50%;z-index: -1;}#sk-container-id-3 div.sk-parallel-item {display: flex;flex-direction: column;z-index: 1;position: relative;background-color: white;}#sk-container-id-3 div.sk-parallel-item:first-child::after {align-self: flex-end;width: 50%;}#sk-container-id-3 div.sk-parallel-item:last-child::after {align-self: flex-start;width: 50%;}#sk-container-id-3 div.sk-parallel-item:only-child::after {width: 0;}#sk-container-id-3 div.sk-dashed-wrapped {border: 1px dashed gray;margin: 0 0.4em 0.5em 0.4em;box-sizing: border-box;padding-bottom: 0.4em;background-color: white;}#sk-container-id-3 div.sk-label label {font-family: monospace;font-weight: bold;display: inline-block;line-height: 1.2em;}#sk-container-id-3 div.sk-label-container {text-align: center;}#sk-container-id-3 div.sk-container {/* jupyter's `normalize.less` sets `[hidden] { display: none; }` but bootstrap.min.css set `[hidden] { display: none !important; }` so we also need the `!important` here to be able to override the default hidden behavior on the sphinx rendered scikit-learn.org. See: https://github.com/scikit-learn/scikit-learn/issues/21755 */display: inline-block !important;position: relative;}#sk-container-id-3 div.sk-text-repr-fallback {display: none;}</style><div id=\"sk-container-id-3\" class=\"sk-top-container\"><div class=\"sk-text-repr-fallback\"><pre>DecisionTreeClassifier()</pre><b>In a Jupyter environment, please rerun this cell to show the HTML representation or trust the notebook. <br />On GitHub, the HTML representation is unable to render, please try loading this page with nbviewer.org.</b></div><div class=\"sk-container\" hidden><div class=\"sk-item\"><div class=\"sk-estimator sk-toggleable\"><input class=\"sk-toggleable__control sk-hidden--visually\" id=\"sk-estimator-id-3\" type=\"checkbox\" checked><label for=\"sk-estimator-id-3\" class=\"sk-toggleable__label sk-toggleable__label-arrow\">DecisionTreeClassifier</label><div class=\"sk-toggleable__content\"><pre>DecisionTreeClassifier()</pre></div></div></div></div></div>"
      ],
      "text/plain": [
       "DecisionTreeClassifier()"
      ]
     },
     "execution_count": 52,
     "metadata": {},
     "output_type": "execute_result"
    }
   ],
   "source": [
    "from sklearn.tree import DecisionTreeClassifier\n",
    "DTR = DecisionTreeClassifier()\n",
    "DTR.fit(X_train, y_train)"
   ]
  },
  {
   "cell_type": "code",
   "execution_count": 53,
   "id": "aaae4aad",
   "metadata": {
    "ExecuteTime": {
     "end_time": "2023-05-10T01:59:52.162504Z",
     "start_time": "2023-05-10T01:59:52.138606Z"
    }
   },
   "outputs": [],
   "source": [
    "DT = DTR.predict(X_test)"
   ]
  },
  {
   "cell_type": "code",
   "execution_count": 54,
   "id": "c6f495b0",
   "metadata": {
    "ExecuteTime": {
     "end_time": "2023-05-10T01:59:52.199324Z",
     "start_time": "2023-05-10T01:59:52.168740Z"
    }
   },
   "outputs": [
    {
     "name": "stdout",
     "output_type": "stream",
     "text": [
      "Test performance\n",
      "-------------------------------------------------------\n",
      "              precision    recall  f1-score   support\n",
      "\n",
      "           3     0.9632    0.9493    0.9562       138\n",
      "           4     0.8154    0.8281    0.8217       128\n",
      "           5     0.5645    0.5738    0.5691       122\n",
      "           6     0.4211    0.3571    0.3865       112\n",
      "           7     0.5660    0.5882    0.5769       102\n",
      "           8     0.8017    0.8857    0.8416       105\n",
      "           9     1.0000    1.0000    1.0000       108\n",
      "\n",
      "    accuracy                         0.7460       815\n",
      "   macro avg     0.7331    0.7403    0.7360       815\n",
      "weighted avg     0.7402    0.7460    0.7424       815\n",
      "\n"
     ]
    }
   ],
   "source": [
    "print('Test performance')\n",
    "print('-------------------------------------------------------')\n",
    "print(classification_report(y_test, DT,digits=4))\n",
    "\n"
   ]
  },
  {
   "cell_type": "code",
   "execution_count": 55,
   "id": "f3ab7703",
   "metadata": {
    "ExecuteTime": {
     "end_time": "2023-05-10T01:59:52.867414Z",
     "start_time": "2023-05-10T01:59:52.202653Z"
    }
   },
   "outputs": [
    {
     "name": "stdout",
     "output_type": "stream",
     "text": [
      "Confusion matrix\n",
      "-------------------------------------------------------\n"
     ]
    },
    {
     "data": {
      "text/plain": [
       "<AxesSubplot:>"
      ]
     },
     "execution_count": 55,
     "metadata": {},
     "output_type": "execute_result"
    },
    {
     "data": {
      "image/png": "[encoded data removed]",
      "text/plain": [
       "<Figure size 1080x864 with 2 Axes>"
      ]
     },
     "metadata": {
      "needs_background": "light"
     },
     "output_type": "display_data"
    }
   ],
   "source": [
    "plt.figure(figsize=(15, 12))\n",
    "print('Confusion matrix')\n",
    "print('-------------------------------------------------------')\n",
    "cr = confusion_matrix(y_test, DT)\n",
    "sns.heatmap(cr,annot=True)"
   ]
  },
  {
   "cell_type": "markdown",
   "id": "63446c88",
   "metadata": {},
   "source": [
    "# New data"
   ]
  },
  {
   "cell_type": "code",
   "execution_count": 56,
   "id": "42ed8a14",
   "metadata": {
    "ExecuteTime": {
     "end_time": "2023-05-10T01:59:53.215865Z",
     "start_time": "2023-05-10T01:59:52.870682Z"
    }
   },
   "outputs": [
    {
     "data": {
      "text/html": [
       "<style>#sk-container-id-4 {color: black;background-color: white;}#sk-container-id-4 pre{padding: 0;}#sk-container-id-4 div.sk-toggleable {background-color: white;}#sk-container-id-4 label.sk-toggleable__label {cursor: pointer;display: block;width: 100%;margin-bottom: 0;padding: 0.3em;box-sizing: border-box;text-align: center;}#sk-container-id-4 label.sk-toggleable__label-arrow:before {content: \"▸\";float: left;margin-right: 0.25em;color: #696969;}#sk-container-id-4 label.sk-toggleable__label-arrow:hover:before {color: black;}#sk-container-id-4 div.sk-estimator:hover label.sk-toggleable__label-arrow:before {color: black;}#sk-container-id-4 div.sk-toggleable__content {max-height: 0;max-width: 0;overflow: hidden;text-align: left;background-color: #f0f8ff;}#sk-container-id-4 div.sk-toggleable__content pre {margin: 0.2em;color: black;border-radius: 0.25em;background-color: #f0f8ff;}#sk-container-id-4 input.sk-toggleable__control:checked~div.sk-toggleable__content {max-height: 200px;max-width: 100%;overflow: auto;}#sk-container-id-4 input.sk-toggleable__control:checked~label.sk-toggleable__label-arrow:before {content: \"▾\";}#sk-container-id-4 div.sk-estimator input.sk-toggleable__control:checked~label.sk-toggleable__label {background-color: #d4ebff;}#sk-container-id-4 div.sk-label input.sk-toggleable__control:checked~label.sk-toggleable__label {background-color: #d4ebff;}#sk-container-id-4 input.sk-hidden--visually {border: 0;clip: rect(1px 1px 1px 1px);clip: rect(1px, 1px, 1px, 1px);height: 1px;margin: -1px;overflow: hidden;padding: 0;position: absolute;width: 1px;}#sk-container-id-4 div.sk-estimator {font-family: monospace;background-color: #f0f8ff;border: 1px dotted black;border-radius: 0.25em;box-sizing: border-box;margin-bottom: 0.5em;}#sk-container-id-4 div.sk-estimator:hover {background-color: #d4ebff;}#sk-container-id-4 div.sk-parallel-item::after {content: \"\";width: 100%;border-bottom: 1px solid gray;flex-grow: 1;}#sk-container-id-4 div.sk-label:hover label.sk-toggleable__label {background-color: #d4ebff;}#sk-container-id-4 div.sk-serial::before {content: \"\";position: absolute;border-left: 1px solid gray;box-sizing: border-box;top: 0;bottom: 0;left: 50%;z-index: 0;}#sk-container-id-4 div.sk-serial {display: flex;flex-direction: column;align-items: center;background-color: white;padding-right: 0.2em;padding-left: 0.2em;position: relative;}#sk-container-id-4 div.sk-item {position: relative;z-index: 1;}#sk-container-id-4 div.sk-parallel {display: flex;align-items: stretch;justify-content: center;background-color: white;position: relative;}#sk-container-id-4 div.sk-item::before, #sk-container-id-4 div.sk-parallel-item::before {content: \"\";position: absolute;border-left: 1px solid gray;box-sizing: border-box;top: 0;bottom: 0;left: 50%;z-index: -1;}#sk-container-id-4 div.sk-parallel-item {display: flex;flex-direction: column;z-index: 1;position: relative;background-color: white;}#sk-container-id-4 div.sk-parallel-item:first-child::after {align-self: flex-end;width: 50%;}#sk-container-id-4 div.sk-parallel-item:last-child::after {align-self: flex-start;width: 50%;}#sk-container-id-4 div.sk-parallel-item:only-child::after {width: 0;}#sk-container-id-4 div.sk-dashed-wrapped {border: 1px dashed gray;margin: 0 0.4em 0.5em 0.4em;box-sizing: border-box;padding-bottom: 0.4em;background-color: white;}#sk-container-id-4 div.sk-label label {font-family: monospace;font-weight: bold;display: inline-block;line-height: 1.2em;}#sk-container-id-4 div.sk-label-container {text-align: center;}#sk-container-id-4 div.sk-container {/* jupyter's `normalize.less` sets `[hidden] { display: none; }` but bootstrap.min.css set `[hidden] { display: none !important; }` so we also need the `!important` here to be able to override the default hidden behavior on the sphinx rendered scikit-learn.org. See: https://github.com/scikit-learn/scikit-learn/issues/21755 */display: inline-block !important;position: relative;}#sk-container-id-4 div.sk-text-repr-fallback {display: none;}</style><div id=\"sk-container-id-4\" class=\"sk-top-container\"><div class=\"sk-text-repr-fallback\"><pre>DecisionTreeClassifier()</pre><b>In a Jupyter environment, please rerun this cell to show the HTML representation or trust the notebook. <br />On GitHub, the HTML representation is unable to render, please try loading this page with nbviewer.org.</b></div><div class=\"sk-container\" hidden><div class=\"sk-item\"><div class=\"sk-estimator sk-toggleable\"><input class=\"sk-toggleable__control sk-hidden--visually\" id=\"sk-estimator-id-4\" type=\"checkbox\" checked><label for=\"sk-estimator-id-4\" class=\"sk-toggleable__label sk-toggleable__label-arrow\">DecisionTreeClassifier</label><div class=\"sk-toggleable__content\"><pre>DecisionTreeClassifier()</pre></div></div></div></div></div>"
      ],
      "text/plain": [
       "DecisionTreeClassifier()"
      ]
     },
     "execution_count": 56,
     "metadata": {},
     "output_type": "execute_result"
    }
   ],
   "source": [
    "from sklearn.tree import DecisionTreeClassifier\n",
    "DTR1 = DecisionTreeClassifier()\n",
    "DTR1.fit(x_train_LDA, y_train)"
   ]
  },
  {
   "cell_type": "code",
   "execution_count": 57,
   "id": "5f85f5f3",
   "metadata": {
    "ExecuteTime": {
     "end_time": "2023-05-10T01:59:53.245527Z",
     "start_time": "2023-05-10T01:59:53.216462Z"
    }
   },
   "outputs": [
    {
     "name": "stdout",
     "output_type": "stream",
     "text": [
      "Test performance\n",
      "-------------------------------------------------------\n",
      "              precision    recall  f1-score   support\n",
      "\n",
      "           3     0.9021    0.9348    0.9181       138\n",
      "           4     0.7398    0.7109    0.7251       128\n",
      "           5     0.4182    0.3770    0.3966       122\n",
      "           6     0.3204    0.2946    0.3070       112\n",
      "           7     0.5470    0.6275    0.5845       102\n",
      "           8     0.7545    0.7905    0.7721       105\n",
      "           9     0.9908    1.0000    0.9954       108\n",
      "\n",
      "    accuracy                         0.6798       815\n",
      "   macro avg     0.6676    0.6765    0.6712       815\n",
      "weighted avg     0.6725    0.6798    0.6754       815\n",
      "\n"
     ]
    }
   ],
   "source": [
    "DT1 = DTR1.predict(x_test_LDA)\n",
    "print('Test performance')\n",
    "print('-------------------------------------------------------')\n",
    "print(classification_report(y_test, DT1,digits=4))\n",
    "\n"
   ]
  },
  {
   "cell_type": "code",
   "execution_count": 58,
   "id": "0f6912f0",
   "metadata": {
    "ExecuteTime": {
     "end_time": "2023-05-10T01:59:53.927308Z",
     "start_time": "2023-05-10T01:59:53.245527Z"
    }
   },
   "outputs": [
    {
     "name": "stdout",
     "output_type": "stream",
     "text": [
      "Confusion matrix\n",
      "-------------------------------------------------------\n"
     ]
    },
    {
     "data": {
      "text/plain": [
       "<AxesSubplot:>"
      ]
     },
     "execution_count": 58,
     "metadata": {},
     "output_type": "execute_result"
    },
    {
     "data": {
      "image/png": "[encoded data removed]",
      "text/plain": [
       "<Figure size 1080x864 with 2 Axes>"
      ]
     },
     "metadata": {
      "needs_background": "light"
     },
     "output_type": "display_data"
    }
   ],
   "source": [
    "plt.figure(figsize=(15, 12))\n",
    "print('Confusion matrix')\n",
    "print('-------------------------------------------------------')\n",
    "cr = confusion_matrix(y_test, DT1)\n",
    "sns.heatmap(cr,annot=True)"
   ]
  },
  {
   "cell_type": "markdown",
   "id": "cf393493",
   "metadata": {},
   "source": [
    "# Gradient Boosting"
   ]
  },
  {
   "cell_type": "code",
   "execution_count": 59,
   "id": "4ea08c6a",
   "metadata": {
    "ExecuteTime": {
     "end_time": "2023-05-10T02:01:10.588827Z",
     "start_time": "2023-05-10T01:59:53.929928Z"
    }
   },
   "outputs": [
    {
     "data": {
      "text/html": [
       "<style>#sk-container-id-5 {color: black;background-color: white;}#sk-container-id-5 pre{padding: 0;}#sk-container-id-5 div.sk-toggleable {background-color: white;}#sk-container-id-5 label.sk-toggleable__label {cursor: pointer;display: block;width: 100%;margin-bottom: 0;padding: 0.3em;box-sizing: border-box;text-align: center;}#sk-container-id-5 label.sk-toggleable__label-arrow:before {content: \"▸\";float: left;margin-right: 0.25em;color: #696969;}#sk-container-id-5 label.sk-toggleable__label-arrow:hover:before {color: black;}#sk-container-id-5 div.sk-estimator:hover label.sk-toggleable__label-arrow:before {color: black;}#sk-container-id-5 div.sk-toggleable__content {max-height: 0;max-width: 0;overflow: hidden;text-align: left;background-color: #f0f8ff;}#sk-container-id-5 div.sk-toggleable__content pre {margin: 0.2em;color: black;border-radius: 0.25em;background-color: #f0f8ff;}#sk-container-id-5 input.sk-toggleable__control:checked~div.sk-toggleable__content {max-height: 200px;max-width: 100%;overflow: auto;}#sk-container-id-5 input.sk-toggleable__control:checked~label.sk-toggleable__label-arrow:before {content: \"▾\";}#sk-container-id-5 div.sk-estimator input.sk-toggleable__control:checked~label.sk-toggleable__label {background-color: #d4ebff;}#sk-container-id-5 div.sk-label input.sk-toggleable__control:checked~label.sk-toggleable__label {background-color: #d4ebff;}#sk-container-id-5 input.sk-hidden--visually {border: 0;clip: rect(1px 1px 1px 1px);clip: rect(1px, 1px, 1px, 1px);height: 1px;margin: -1px;overflow: hidden;padding: 0;position: absolute;width: 1px;}#sk-container-id-5 div.sk-estimator {font-family: monospace;background-color: #f0f8ff;border: 1px dotted black;border-radius: 0.25em;box-sizing: border-box;margin-bottom: 0.5em;}#sk-container-id-5 div.sk-estimator:hover {background-color: #d4ebff;}#sk-container-id-5 div.sk-parallel-item::after {content: \"\";width: 100%;border-bottom: 1px solid gray;flex-grow: 1;}#sk-container-id-5 div.sk-label:hover label.sk-toggleable__label {background-color: #d4ebff;}#sk-container-id-5 div.sk-serial::before {content: \"\";position: absolute;border-left: 1px solid gray;box-sizing: border-box;top: 0;bottom: 0;left: 50%;z-index: 0;}#sk-container-id-5 div.sk-serial {display: flex;flex-direction: column;align-items: center;background-color: white;padding-right: 0.2em;padding-left: 0.2em;position: relative;}#sk-container-id-5 div.sk-item {position: relative;z-index: 1;}#sk-container-id-5 div.sk-parallel {display: flex;align-items: stretch;justify-content: center;background-color: white;position: relative;}#sk-container-id-5 div.sk-item::before, #sk-container-id-5 div.sk-parallel-item::before {content: \"\";position: absolute;border-left: 1px solid gray;box-sizing: border-box;top: 0;bottom: 0;left: 50%;z-index: -1;}#sk-container-id-5 div.sk-parallel-item {display: flex;flex-direction: column;z-index: 1;position: relative;background-color: white;}#sk-container-id-5 div.sk-parallel-item:first-child::after {align-self: flex-end;width: 50%;}#sk-container-id-5 div.sk-parallel-item:last-child::after {align-self: flex-start;width: 50%;}#sk-container-id-5 div.sk-parallel-item:only-child::after {width: 0;}#sk-container-id-5 div.sk-dashed-wrapped {border: 1px dashed gray;margin: 0 0.4em 0.5em 0.4em;box-sizing: border-box;padding-bottom: 0.4em;background-color: white;}#sk-container-id-5 div.sk-label label {font-family: monospace;font-weight: bold;display: inline-block;line-height: 1.2em;}#sk-container-id-5 div.sk-label-container {text-align: center;}#sk-container-id-5 div.sk-container {/* jupyter's `normalize.less` sets `[hidden] { display: none; }` but bootstrap.min.css set `[hidden] { display: none !important; }` so we also need the `!important` here to be able to override the default hidden behavior on the sphinx rendered scikit-learn.org. See: https://github.com/scikit-learn/scikit-learn/issues/21755 */display: inline-block !important;position: relative;}#sk-container-id-5 div.sk-text-repr-fallback {display: none;}</style><div id=\"sk-container-id-5\" class=\"sk-top-container\"><div class=\"sk-text-repr-fallback\"><pre>GradientBoostingClassifier()</pre><b>In a Jupyter environment, please rerun this cell to show the HTML representation or trust the notebook. <br />On GitHub, the HTML representation is unable to render, please try loading this page with nbviewer.org.</b></div><div class=\"sk-container\" hidden><div class=\"sk-item\"><div class=\"sk-estimator sk-toggleable\"><input class=\"sk-toggleable__control sk-hidden--visually\" id=\"sk-estimator-id-5\" type=\"checkbox\" checked><label for=\"sk-estimator-id-5\" class=\"sk-toggleable__label sk-toggleable__label-arrow\">GradientBoostingClassifier</label><div class=\"sk-toggleable__content\"><pre>GradientBoostingClassifier()</pre></div></div></div></div></div>"
      ],
      "text/plain": [
       "GradientBoostingClassifier()"
      ]
     },
     "execution_count": 59,
     "metadata": {},
     "output_type": "execute_result"
    }
   ],
   "source": [
    "from sklearn.ensemble import GradientBoostingClassifier\n",
    "# Gradient boosting\n",
    "GB = GradientBoostingClassifier()\n",
    "GB.fit(X_train, y_train)\n"
   ]
  },
  {
   "cell_type": "code",
   "execution_count": 60,
   "id": "d6cb370d",
   "metadata": {
    "ExecuteTime": {
     "end_time": "2023-05-10T02:01:10.633361Z",
     "start_time": "2023-05-10T02:01:10.592828Z"
    }
   },
   "outputs": [],
   "source": [
    "#GB1 = GB.predict(X_train)\n",
    "GB_test = GB.predict(X_test)"
   ]
  },
  {
   "cell_type": "code",
   "execution_count": 61,
   "id": "2660936e",
   "metadata": {
    "ExecuteTime": {
     "end_time": "2023-05-10T02:01:10.659890Z",
     "start_time": "2023-05-10T02:01:10.638353Z"
    }
   },
   "outputs": [
    {
     "name": "stdout",
     "output_type": "stream",
     "text": [
      "Test performance\n",
      "-------------------------------------------------------\n",
      "              precision    recall  f1-score   support\n",
      "\n",
      "           3     0.8897    0.9348    0.9117       138\n",
      "           4     0.7578    0.7578    0.7578       128\n",
      "           5     0.5929    0.5492    0.5702       122\n",
      "           6     0.4894    0.4107    0.4466       112\n",
      "           7     0.5455    0.5882    0.5660       102\n",
      "           8     0.7500    0.8286    0.7873       105\n",
      "           9     0.9908    1.0000    0.9954       108\n",
      "\n",
      "    accuracy                         0.7288       815\n",
      "   macro avg     0.7166    0.7242    0.7193       815\n",
      "weighted avg     0.7219    0.7288    0.7243       815\n",
      "\n"
     ]
    }
   ],
   "source": [
    "print('Test performance')\n",
    "print('-------------------------------------------------------')\n",
    "print(classification_report(y_test, GB_test,digits=4))"
   ]
  },
  {
   "cell_type": "code",
   "execution_count": 62,
   "id": "09dc95b1",
   "metadata": {
    "ExecuteTime": {
     "end_time": "2023-05-10T02:01:11.379589Z",
     "start_time": "2023-05-10T02:01:10.665959Z"
    }
   },
   "outputs": [
    {
     "name": "stdout",
     "output_type": "stream",
     "text": [
      "Confusion matrix\n",
      "-------------------------------------------------------\n"
     ]
    },
    {
     "data": {
      "text/plain": [
       "<AxesSubplot:>"
      ]
     },
     "execution_count": 62,
     "metadata": {},
     "output_type": "execute_result"
    },
    {
     "data": {
      "image/png": "[encoded data removed]",
      "text/plain": [
       "<Figure size 1080x864 with 2 Axes>"
      ]
     },
     "metadata": {
      "needs_background": "light"
     },
     "output_type": "display_data"
    }
   ],
   "source": [
    "plt.figure(figsize=(15, 12))\n",
    "print('Confusion matrix')\n",
    "print('-------------------------------------------------------')\n",
    "cr = confusion_matrix(y_test, GB_test)\n",
    "sns.heatmap(cr,annot=True)"
   ]
  },
  {
   "cell_type": "markdown",
   "id": "8eeb2842",
   "metadata": {},
   "source": [
    "# new data"
   ]
  },
  {
   "cell_type": "code",
   "execution_count": 63,
   "id": "7ae3033b",
   "metadata": {
    "ExecuteTime": {
     "end_time": "2023-05-10T02:02:09.482818Z",
     "start_time": "2023-05-10T02:01:11.379589Z"
    }
   },
   "outputs": [
    {
     "data": {
      "text/html": [
       "<style>#sk-container-id-6 {color: black;background-color: white;}#sk-container-id-6 pre{padding: 0;}#sk-container-id-6 div.sk-toggleable {background-color: white;}#sk-container-id-6 label.sk-toggleable__label {cursor: pointer;display: block;width: 100%;margin-bottom: 0;padding: 0.3em;box-sizing: border-box;text-align: center;}#sk-container-id-6 label.sk-toggleable__label-arrow:before {content: \"▸\";float: left;margin-right: 0.25em;color: #696969;}#sk-container-id-6 label.sk-toggleable__label-arrow:hover:before {color: black;}#sk-container-id-6 div.sk-estimator:hover label.sk-toggleable__label-arrow:before {color: black;}#sk-container-id-6 div.sk-toggleable__content {max-height: 0;max-width: 0;overflow: hidden;text-align: left;background-color: #f0f8ff;}#sk-container-id-6 div.sk-toggleable__content pre {margin: 0.2em;color: black;border-radius: 0.25em;background-color: #f0f8ff;}#sk-container-id-6 input.sk-toggleable__control:checked~div.sk-toggleable__content {max-height: 200px;max-width: 100%;overflow: auto;}#sk-container-id-6 input.sk-toggleable__control:checked~label.sk-toggleable__label-arrow:before {content: \"▾\";}#sk-container-id-6 div.sk-estimator input.sk-toggleable__control:checked~label.sk-toggleable__label {background-color: #d4ebff;}#sk-container-id-6 div.sk-label input.sk-toggleable__control:checked~label.sk-toggleable__label {background-color: #d4ebff;}#sk-container-id-6 input.sk-hidden--visually {border: 0;clip: rect(1px 1px 1px 1px);clip: rect(1px, 1px, 1px, 1px);height: 1px;margin: -1px;overflow: hidden;padding: 0;position: absolute;width: 1px;}#sk-container-id-6 div.sk-estimator {font-family: monospace;background-color: #f0f8ff;border: 1px dotted black;border-radius: 0.25em;box-sizing: border-box;margin-bottom: 0.5em;}#sk-container-id-6 div.sk-estimator:hover {background-color: #d4ebff;}#sk-container-id-6 div.sk-parallel-item::after {content: \"\";width: 100%;border-bottom: 1px solid gray;flex-grow: 1;}#sk-container-id-6 div.sk-label:hover label.sk-toggleable__label {background-color: #d4ebff;}#sk-container-id-6 div.sk-serial::before {content: \"\";position: absolute;border-left: 1px solid gray;box-sizing: border-box;top: 0;bottom: 0;left: 50%;z-index: 0;}#sk-container-id-6 div.sk-serial {display: flex;flex-direction: column;align-items: center;background-color: white;padding-right: 0.2em;padding-left: 0.2em;position: relative;}#sk-container-id-6 div.sk-item {position: relative;z-index: 1;}#sk-container-id-6 div.sk-parallel {display: flex;align-items: stretch;justify-content: center;background-color: white;position: relative;}#sk-container-id-6 div.sk-item::before, #sk-container-id-6 div.sk-parallel-item::before {content: \"\";position: absolute;border-left: 1px solid gray;box-sizing: border-box;top: 0;bottom: 0;left: 50%;z-index: -1;}#sk-container-id-6 div.sk-parallel-item {display: flex;flex-direction: column;z-index: 1;position: relative;background-color: white;}#sk-container-id-6 div.sk-parallel-item:first-child::after {align-self: flex-end;width: 50%;}#sk-container-id-6 div.sk-parallel-item:last-child::after {align-self: flex-start;width: 50%;}#sk-container-id-6 div.sk-parallel-item:only-child::after {width: 0;}#sk-container-id-6 div.sk-dashed-wrapped {border: 1px dashed gray;margin: 0 0.4em 0.5em 0.4em;box-sizing: border-box;padding-bottom: 0.4em;background-color: white;}#sk-container-id-6 div.sk-label label {font-family: monospace;font-weight: bold;display: inline-block;line-height: 1.2em;}#sk-container-id-6 div.sk-label-container {text-align: center;}#sk-container-id-6 div.sk-container {/* jupyter's `normalize.less` sets `[hidden] { display: none; }` but bootstrap.min.css set `[hidden] { display: none !important; }` so we also need the `!important` here to be able to override the default hidden behavior on the sphinx rendered scikit-learn.org. See: https://github.com/scikit-learn/scikit-learn/issues/21755 */display: inline-block !important;position: relative;}#sk-container-id-6 div.sk-text-repr-fallback {display: none;}</style><div id=\"sk-container-id-6\" class=\"sk-top-container\"><div class=\"sk-text-repr-fallback\"><pre>GradientBoostingClassifier()</pre><b>In a Jupyter environment, please rerun this cell to show the HTML representation or trust the notebook. <br />On GitHub, the HTML representation is unable to render, please try loading this page with nbviewer.org.</b></div><div class=\"sk-container\" hidden><div class=\"sk-item\"><div class=\"sk-estimator sk-toggleable\"><input class=\"sk-toggleable__control sk-hidden--visually\" id=\"sk-estimator-id-6\" type=\"checkbox\" checked><label for=\"sk-estimator-id-6\" class=\"sk-toggleable__label sk-toggleable__label-arrow\">GradientBoostingClassifier</label><div class=\"sk-toggleable__content\"><pre>GradientBoostingClassifier()</pre></div></div></div></div></div>"
      ],
      "text/plain": [
       "GradientBoostingClassifier()"
      ]
     },
     "execution_count": 63,
     "metadata": {},
     "output_type": "execute_result"
    }
   ],
   "source": [
    "from sklearn.ensemble import GradientBoostingClassifier\n",
    "# Gradient boosting\n",
    "GB1 = GradientBoostingClassifier()\n",
    "GB1.fit(x_train_LDA, y_train)\n"
   ]
  },
  {
   "cell_type": "code",
   "execution_count": 64,
   "id": "f0bb4157",
   "metadata": {
    "ExecuteTime": {
     "end_time": "2023-05-10T02:02:09.543177Z",
     "start_time": "2023-05-10T02:02:09.486639Z"
    }
   },
   "outputs": [
    {
     "name": "stdout",
     "output_type": "stream",
     "text": [
      "Test performance\n",
      "-------------------------------------------------------\n",
      "              precision    recall  f1-score   support\n",
      "\n",
      "           3     0.8188    0.8188    0.8188       138\n",
      "           4     0.6565    0.6719    0.6641       128\n",
      "           5     0.5182    0.4672    0.4914       122\n",
      "           6     0.3146    0.2500    0.2786       112\n",
      "           7     0.4104    0.5392    0.4661       102\n",
      "           8     0.6990    0.6857    0.6923       105\n",
      "           9     0.9818    1.0000    0.9908       108\n",
      "\n",
      "    accuracy                         0.6368       815\n",
      "   macro avg     0.6285    0.6333    0.6289       815\n",
      "weighted avg     0.6341    0.6368    0.6336       815\n",
      "\n"
     ]
    }
   ],
   "source": [
    "GB_test1 = GB1.predict(x_test_LDA)\n",
    "print('Test performance')\n",
    "print('-------------------------------------------------------')\n",
    "print(classification_report(y_test, GB_test1,digits=4))"
   ]
  },
  {
   "cell_type": "code",
   "execution_count": 65,
   "id": "3aed6bf7",
   "metadata": {
    "ExecuteTime": {
     "end_time": "2023-05-10T02:02:10.491687Z",
     "start_time": "2023-05-10T02:02:09.549849Z"
    }
   },
   "outputs": [
    {
     "name": "stdout",
     "output_type": "stream",
     "text": [
      "Confusion matrix\n",
      "-------------------------------------------------------\n"
     ]
    },
    {
     "data": {
      "text/plain": [
       "<AxesSubplot:>"
      ]
     },
     "execution_count": 65,
     "metadata": {},
     "output_type": "execute_result"
    },
    {
     "data": {
      "image/png": "[encoded data removed]",
      "text/plain": [
       "<Figure size 1080x864 with 2 Axes>"
      ]
     },
     "metadata": {
      "needs_background": "light"
     },
     "output_type": "display_data"
    }
   ],
   "source": [
    "plt.figure(figsize=(15, 12))\n",
    "print('Confusion matrix')\n",
    "print('-------------------------------------------------------')\n",
    "cr = confusion_matrix(y_test, GB_test1)\n",
    "sns.heatmap(cr,annot=True)"
   ]
  },
  {
   "cell_type": "markdown",
   "id": "6f8bbd4e",
   "metadata": {},
   "source": [
    "# Logistic regression"
   ]
  },
  {
   "cell_type": "code",
   "execution_count": 66,
   "id": "0672a513",
   "metadata": {
    "ExecuteTime": {
     "end_time": "2023-05-10T02:02:11.567765Z",
     "start_time": "2023-05-10T02:02:10.496573Z"
    }
   },
   "outputs": [
    {
     "name": "stderr",
     "output_type": "stream",
     "text": [
      "C:\\Users\\SNEHIT REDDY\\AppData\\Local\\Programs\\Python\\Python310\\lib\\site-packages\\sklearn\\linear_model\\_logistic.py:444: ConvergenceWarning: lbfgs failed to converge (status=1):\n",
      "STOP: TOTAL NO. of ITERATIONS REACHED LIMIT.\n",
      "\n",
      "Increase the number of iterations (max_iter) or scale the data as shown in:\n",
      "    https://scikit-learn.org/stable/modules/preprocessing.html\n",
      "Please also refer to the documentation for alternative solver options:\n",
      "    https://scikit-learn.org/stable/modules/linear_model.html#logistic-regression\n",
      "  n_iter_i = _check_optimize_result(\n"
     ]
    }
   ],
   "source": [
    "from sklearn.linear_model import LogisticRegression\n",
    "LR = LogisticRegression()\n",
    "LR.fit(X_train,y_train)\n",
    "LR_pred = LR.predict(X_test)"
   ]
  },
  {
   "cell_type": "code",
   "execution_count": 67,
   "id": "6358ac4d",
   "metadata": {
    "ExecuteTime": {
     "end_time": "2023-05-10T02:02:11.593826Z",
     "start_time": "2023-05-10T02:02:11.570726Z"
    }
   },
   "outputs": [
    {
     "name": "stdout",
     "output_type": "stream",
     "text": [
      "              precision    recall  f1-score   support\n",
      "\n",
      "           3     0.3625    0.4203    0.3893       138\n",
      "           4     0.3735    0.4844    0.4218       128\n",
      "           5     0.3187    0.2377    0.2723       122\n",
      "           6     0.1905    0.0714    0.1039       112\n",
      "           7     0.1579    0.0588    0.0857       102\n",
      "           8     0.3542    0.4857    0.4096       105\n",
      "           9     0.3736    0.6019    0.4610       108\n",
      "\n",
      "    accuracy                         0.3423       815\n",
      "   macro avg     0.3044    0.3372    0.3062       815\n",
      "weighted avg     0.3088    0.3423    0.3118       815\n",
      "\n"
     ]
    }
   ],
   "source": [
    "print(classification_report(y_test,LR_pred,digits=4))"
   ]
  },
  {
   "cell_type": "code",
   "execution_count": 68,
   "id": "bddbd76c",
   "metadata": {
    "ExecuteTime": {
     "end_time": "2023-05-10T02:02:12.285876Z",
     "start_time": "2023-05-10T02:02:11.594413Z"
    }
   },
   "outputs": [
    {
     "name": "stdout",
     "output_type": "stream",
     "text": [
      "Confusion matrix\n",
      "-------------------------------------------------------\n"
     ]
    },
    {
     "data": {
      "text/plain": [
       "<AxesSubplot:>"
      ]
     },
     "execution_count": 68,
     "metadata": {},
     "output_type": "execute_result"
    },
    {
     "data": {
      "image/png": "[encoded data removed]",
      "text/plain": [
       "<Figure size 864x864 with 2 Axes>"
      ]
     },
     "metadata": {
      "needs_background": "light"
     },
     "output_type": "display_data"
    }
   ],
   "source": [
    "plt.figure(figsize=(12, 12))\n",
    "print('Confusion matrix')\n",
    "print('-------------------------------------------------------')\n",
    "cr = confusion_matrix(y_test, LR_pred)\n",
    "sns.heatmap(cr,annot=True)"
   ]
  },
  {
   "cell_type": "markdown",
   "id": "d341e786",
   "metadata": {},
   "source": [
    "# New data"
   ]
  },
  {
   "cell_type": "code",
   "execution_count": 69,
   "id": "ceb71719",
   "metadata": {
    "ExecuteTime": {
     "end_time": "2023-05-10T02:02:12.639524Z",
     "start_time": "2023-05-10T02:02:12.286767Z"
    }
   },
   "outputs": [],
   "source": [
    "LR1 = LogisticRegression()\n",
    "LR1.fit(x_train_LDA,y_train)\n",
    "LR_test1 = LR1.predict(x_test_LDA)"
   ]
  },
  {
   "cell_type": "code",
   "execution_count": 70,
   "id": "42315d68",
   "metadata": {
    "ExecuteTime": {
     "end_time": "2023-05-10T02:02:13.328603Z",
     "start_time": "2023-05-10T02:02:12.639524Z"
    }
   },
   "outputs": [
    {
     "name": "stdout",
     "output_type": "stream",
     "text": [
      "              precision    recall  f1-score   support\n",
      "\n",
      "           3     0.5385    0.5072    0.5224       138\n",
      "           4     0.5194    0.5234    0.5214       128\n",
      "           5     0.4091    0.3689    0.3879       122\n",
      "           6     0.2593    0.2500    0.2545       112\n",
      "           7     0.3656    0.3333    0.3487       102\n",
      "           8     0.5088    0.5524    0.5297       105\n",
      "           9     0.8244    1.0000    0.9038       108\n",
      "\n",
      "    accuracy                         0.5031       815\n",
      "   macro avg     0.4893    0.5050    0.4955       815\n",
      "weighted avg     0.4902    0.5031    0.4950       815\n",
      "\n",
      "Confusion matrix\n",
      "-------------------------------------------------------\n"
     ]
    },
    {
     "data": {
      "text/plain": [
       "<AxesSubplot:>"
      ]
     },
     "execution_count": 70,
     "metadata": {},
     "output_type": "execute_result"
    },
    {
     "data": {
      "image/png": "[encoded data removed]",
      "text/plain": [
       "<Figure size 864x864 with 2 Axes>"
      ]
     },
     "metadata": {
      "needs_background": "light"
     },
     "output_type": "display_data"
    }
   ],
   "source": [
    "print(classification_report(y_test,LR_test1,digits=4))\n",
    "\n",
    "# Confusion matrix\n",
    "plt.figure(figsize=(12, 12))\n",
    "print('Confusion matrix')\n",
    "print('-------------------------------------------------------')\n",
    "cr = confusion_matrix(y_test, LR_test1)\n",
    "sns.heatmap(cr,annot=True)"
   ]
  },
  {
   "cell_type": "markdown",
   "id": "77dd673e",
   "metadata": {},
   "source": [
    "# SVC"
   ]
  },
  {
   "cell_type": "code",
   "execution_count": 71,
   "id": "3839af3e",
   "metadata": {
    "ExecuteTime": {
     "end_time": "2023-05-10T02:02:46.151863Z",
     "start_time": "2023-05-10T02:02:13.328603Z"
    }
   },
   "outputs": [
    {
     "data": {
      "text/html": [
       "<style>#sk-container-id-7 {color: black;background-color: white;}#sk-container-id-7 pre{padding: 0;}#sk-container-id-7 div.sk-toggleable {background-color: white;}#sk-container-id-7 label.sk-toggleable__label {cursor: pointer;display: block;width: 100%;margin-bottom: 0;padding: 0.3em;box-sizing: border-box;text-align: center;}#sk-container-id-7 label.sk-toggleable__label-arrow:before {content: \"▸\";float: left;margin-right: 0.25em;color: #696969;}#sk-container-id-7 label.sk-toggleable__label-arrow:hover:before {color: black;}#sk-container-id-7 div.sk-estimator:hover label.sk-toggleable__label-arrow:before {color: black;}#sk-container-id-7 div.sk-toggleable__content {max-height: 0;max-width: 0;overflow: hidden;text-align: left;background-color: #f0f8ff;}#sk-container-id-7 div.sk-toggleable__content pre {margin: 0.2em;color: black;border-radius: 0.25em;background-color: #f0f8ff;}#sk-container-id-7 input.sk-toggleable__control:checked~div.sk-toggleable__content {max-height: 200px;max-width: 100%;overflow: auto;}#sk-container-id-7 input.sk-toggleable__control:checked~label.sk-toggleable__label-arrow:before {content: \"▾\";}#sk-container-id-7 div.sk-estimator input.sk-toggleable__control:checked~label.sk-toggleable__label {background-color: #d4ebff;}#sk-container-id-7 div.sk-label input.sk-toggleable__control:checked~label.sk-toggleable__label {background-color: #d4ebff;}#sk-container-id-7 input.sk-hidden--visually {border: 0;clip: rect(1px 1px 1px 1px);clip: rect(1px, 1px, 1px, 1px);height: 1px;margin: -1px;overflow: hidden;padding: 0;position: absolute;width: 1px;}#sk-container-id-7 div.sk-estimator {font-family: monospace;background-color: #f0f8ff;border: 1px dotted black;border-radius: 0.25em;box-sizing: border-box;margin-bottom: 0.5em;}#sk-container-id-7 div.sk-estimator:hover {background-color: #d4ebff;}#sk-container-id-7 div.sk-parallel-item::after {content: \"\";width: 100%;border-bottom: 1px solid gray;flex-grow: 1;}#sk-container-id-7 div.sk-label:hover label.sk-toggleable__label {background-color: #d4ebff;}#sk-container-id-7 div.sk-serial::before {content: \"\";position: absolute;border-left: 1px solid gray;box-sizing: border-box;top: 0;bottom: 0;left: 50%;z-index: 0;}#sk-container-id-7 div.sk-serial {display: flex;flex-direction: column;align-items: center;background-color: white;padding-right: 0.2em;padding-left: 0.2em;position: relative;}#sk-container-id-7 div.sk-item {position: relative;z-index: 1;}#sk-container-id-7 div.sk-parallel {display: flex;align-items: stretch;justify-content: center;background-color: white;position: relative;}#sk-container-id-7 div.sk-item::before, #sk-container-id-7 div.sk-parallel-item::before {content: \"\";position: absolute;border-left: 1px solid gray;box-sizing: border-box;top: 0;bottom: 0;left: 50%;z-index: -1;}#sk-container-id-7 div.sk-parallel-item {display: flex;flex-direction: column;z-index: 1;position: relative;background-color: white;}#sk-container-id-7 div.sk-parallel-item:first-child::after {align-self: flex-end;width: 50%;}#sk-container-id-7 div.sk-parallel-item:last-child::after {align-self: flex-start;width: 50%;}#sk-container-id-7 div.sk-parallel-item:only-child::after {width: 0;}#sk-container-id-7 div.sk-dashed-wrapped {border: 1px dashed gray;margin: 0 0.4em 0.5em 0.4em;box-sizing: border-box;padding-bottom: 0.4em;background-color: white;}#sk-container-id-7 div.sk-label label {font-family: monospace;font-weight: bold;display: inline-block;line-height: 1.2em;}#sk-container-id-7 div.sk-label-container {text-align: center;}#sk-container-id-7 div.sk-container {/* jupyter's `normalize.less` sets `[hidden] { display: none; }` but bootstrap.min.css set `[hidden] { display: none !important; }` so we also need the `!important` here to be able to override the default hidden behavior on the sphinx rendered scikit-learn.org. See: https://github.com/scikit-learn/scikit-learn/issues/21755 */display: inline-block !important;position: relative;}#sk-container-id-7 div.sk-text-repr-fallback {display: none;}</style><div id=\"sk-container-id-7\" class=\"sk-top-container\"><div class=\"sk-text-repr-fallback\"><pre>SVC(random_state=123)</pre><b>In a Jupyter environment, please rerun this cell to show the HTML representation or trust the notebook. <br />On GitHub, the HTML representation is unable to render, please try loading this page with nbviewer.org.</b></div><div class=\"sk-container\" hidden><div class=\"sk-item\"><div class=\"sk-estimator sk-toggleable\"><input class=\"sk-toggleable__control sk-hidden--visually\" id=\"sk-estimator-id-7\" type=\"checkbox\" checked><label for=\"sk-estimator-id-7\" class=\"sk-toggleable__label sk-toggleable__label-arrow\">SVC</label><div class=\"sk-toggleable__content\"><pre>SVC(random_state=123)</pre></div></div></div></div></div>"
      ],
      "text/plain": [
       "SVC(random_state=123)"
      ]
     },
     "execution_count": 71,
     "metadata": {},
     "output_type": "execute_result"
    }
   ],
   "source": [
    "from sklearn.svm import SVC\n",
    "svm = SVC(random_state=123)\n",
    "svm.fit(X_train, y_train)"
   ]
  },
  {
   "cell_type": "code",
   "execution_count": 72,
   "id": "f6d10adf",
   "metadata": {
    "ExecuteTime": {
     "end_time": "2023-05-10T02:02:49.255059Z",
     "start_time": "2023-05-10T02:02:46.156861Z"
    }
   },
   "outputs": [],
   "source": [
    "svm_pred  = svm.predict(X_test)"
   ]
  },
  {
   "cell_type": "code",
   "execution_count": 73,
   "id": "812a62ea",
   "metadata": {
    "ExecuteTime": {
     "end_time": "2023-05-10T02:02:49.870861Z",
     "start_time": "2023-05-10T02:02:49.255059Z"
    }
   },
   "outputs": [
    {
     "name": "stdout",
     "output_type": "stream",
     "text": [
      "Test performance\n",
      "-------------------------------------------------------\n",
      "              precision    recall  f1-score   support\n",
      "\n",
      "           3     0.4296    0.4203    0.4249       138\n",
      "           4     0.4222    0.4453    0.4335       128\n",
      "           5     0.2789    0.3361    0.3048       122\n",
      "           6     0.2105    0.0714    0.1067       112\n",
      "           7     0.3636    0.0392    0.0708       102\n",
      "           8     0.3088    0.2000    0.2428       105\n",
      "           9     0.3523    0.9167    0.5090       108\n",
      "\n",
      "    accuracy                         0.3534       815\n",
      "   macro avg     0.3380    0.3470    0.2989       815\n",
      "weighted avg     0.3417    0.3534    0.3079       815\n",
      "\n",
      "Confusion matrix\n",
      "-------------------------------------------------------\n"
     ]
    },
    {
     "data": {
      "text/plain": [
       "<AxesSubplot:>"
      ]
     },
     "execution_count": 73,
     "metadata": {},
     "output_type": "execute_result"
    },
    {
     "data": {
      "image/png": "[encoded data removed]",
      "text/plain": [
       "<Figure size 432x288 with 2 Axes>"
      ]
     },
     "metadata": {
      "needs_background": "light"
     },
     "output_type": "display_data"
    }
   ],
   "source": [
    "print('Test performance')\n",
    "print('-------------------------------------------------------')\n",
    "print(classification_report(y_test, svm_pred,digits=4))\n",
    "\n",
    "\n",
    "\n",
    "print('Confusion matrix')\n",
    "print('-------------------------------------------------------')\n",
    "cr = confusion_matrix(y_test, svm_pred)\n",
    "sns.heatmap(cr,annot=True)"
   ]
  },
  {
   "cell_type": "code",
   "execution_count": 74,
   "id": "84d8073d",
   "metadata": {
    "ExecuteTime": {
     "end_time": "2023-05-10T02:03:04.998192Z",
     "start_time": "2023-05-10T02:02:49.870861Z"
    }
   },
   "outputs": [
    {
     "name": "stdout",
     "output_type": "stream",
     "text": [
      "Test performance\n",
      "-------------------------------------------------------\n",
      "              precision    recall  f1-score   support\n",
      "\n",
      "           3     0.8540    0.8478    0.8509       138\n",
      "           4     0.6277    0.6719    0.6491       128\n",
      "           5     0.5714    0.4918    0.5286       122\n",
      "           6     0.3542    0.3036    0.3269       112\n",
      "           7     0.3719    0.4412    0.4036       102\n",
      "           8     0.6415    0.6476    0.6445       105\n",
      "           9     0.9558    1.0000    0.9774       108\n",
      "\n",
      "    accuracy                         0.6356       815\n",
      "   macro avg     0.6252    0.6291    0.6259       815\n",
      "weighted avg     0.6333    0.6356    0.6331       815\n",
      "\n",
      "Confusion matrix\n",
      "-------------------------------------------------------\n"
     ]
    },
    {
     "data": {
      "text/plain": [
       "<AxesSubplot:>"
      ]
     },
     "execution_count": 74,
     "metadata": {},
     "output_type": "execute_result"
    },
    {
     "data": {
      "image/png": "[encoded data removed]",
      "text/plain": [
       "<Figure size 432x288 with 2 Axes>"
      ]
     },
     "metadata": {
      "needs_background": "light"
     },
     "output_type": "display_data"
    }
   ],
   "source": [
    "from sklearn.svm import SVC\n",
    "svm1 = SVC(random_state=123)\n",
    "svm1.fit(x_train_LDA, y_train)\n",
    "\n",
    "svm_pred1  = svm1.predict(x_test_LDA)\n",
    "\n",
    "print('Test performance')\n",
    "print('-------------------------------------------------------')\n",
    "print(classification_report(y_test, svm_pred1,digits=4))\n",
    "\n",
    "\n",
    "\n",
    "print('Confusion matrix')\n",
    "print('-------------------------------------------------------')\n",
    "cr = confusion_matrix(y_test, svm_pred1)\n",
    "sns.heatmap(cr,annot=True)\n"
   ]
  },
  {
   "cell_type": "markdown",
   "id": "e626117c",
   "metadata": {},
   "source": [
    "# Random Forest"
   ]
  },
  {
   "cell_type": "code",
   "execution_count": 75,
   "id": "7f138ad7",
   "metadata": {
    "ExecuteTime": {
     "end_time": "2023-05-10T02:03:07.537450Z",
     "start_time": "2023-05-10T02:03:04.998192Z"
    }
   },
   "outputs": [
    {
     "name": "stdout",
     "output_type": "stream",
     "text": [
      "RandomForestClassifier(n_jobs=-1, random_state=123)\n",
      "Test performance\n",
      "-------------------------------------------------------\n",
      "              precision    recall  f1-score   support\n",
      "\n",
      "           3     0.9783    0.9783    0.9783       138\n",
      "           4     0.8462    0.8594    0.8527       128\n",
      "           5     0.6723    0.6557    0.6639       122\n",
      "           6     0.5109    0.4196    0.4608       112\n",
      "           7     0.6218    0.7255    0.6697       102\n",
      "           8     0.8692    0.8857    0.8774       105\n",
      "           9     0.9818    1.0000    0.9908       108\n",
      "\n",
      "    accuracy                         0.7939       815\n",
      "   macro avg     0.7829    0.7892    0.7848       815\n",
      "weighted avg     0.7893    0.7939    0.7904       815\n",
      "\n",
      "Confusion matrix\n",
      "-------------------------------------------------------\n"
     ]
    },
    {
     "data": {
      "text/plain": [
       "<AxesSubplot:>"
      ]
     },
     "execution_count": 75,
     "metadata": {},
     "output_type": "execute_result"
    },
    {
     "data": {
      "image/png": "[encoded data removed]",
      "text/plain": [
       "<Figure size 864x864 with 2 Axes>"
      ]
     },
     "metadata": {
      "needs_background": "light"
     },
     "output_type": "display_data"
    }
   ],
   "source": [
    "\n",
    "from sklearn.ensemble import RandomForestClassifier\n",
    "rfc = RandomForestClassifier(n_jobs=-1,random_state=123)\n",
    "rfc.fit(x_train_LDA, y_train)\n",
    "\n",
    "RFC_pred = rfc.predict(x_test_LDA)\n",
    "\n",
    "print(rfc)\n",
    "print('Test performance')\n",
    "print('-------------------------------------------------------')\n",
    "print(classification_report(y_test, RFC_pred,digits=4))\n",
    "\n",
    "plt.figure(figsize=(12, 12))\n",
    "print('Confusion matrix')\n",
    "print('-------------------------------------------------------')\n",
    "cr = confusion_matrix(y_test, RFC_pred)\n",
    "sns.heatmap(cr,annot=True)\n"
   ]
  },
  {
   "cell_type": "markdown",
   "id": "be4430c9",
   "metadata": {},
   "source": [
    "# KNN"
   ]
  },
  {
   "cell_type": "code",
   "execution_count": 76,
   "id": "e85a28c0",
   "metadata": {
    "ExecuteTime": {
     "end_time": "2023-05-10T02:03:08.398847Z",
     "start_time": "2023-05-10T02:03:07.541611Z"
    }
   },
   "outputs": [
    {
     "name": "stdout",
     "output_type": "stream",
     "text": [
      "KNeighborsClassifier()\n",
      "Test performance\n",
      "-------------------------------------------------------\n",
      "              precision    recall  f1-score   support\n",
      "\n",
      "           3     0.8790    1.0000    0.9356       138\n",
      "           4     0.7438    0.9297    0.8264       128\n",
      "           5     0.5825    0.4918    0.5333       122\n",
      "           6     0.5738    0.3125    0.4046       112\n",
      "           7     0.6827    0.6961    0.6893       102\n",
      "           8     0.8017    0.9238    0.8584       105\n",
      "           9     0.9908    1.0000    0.9954       108\n",
      "\n",
      "    accuracy                         0.7706       815\n",
      "   macro avg     0.7506    0.7648    0.7490       815\n",
      "weighted avg     0.7517    0.7706    0.7524       815\n",
      "\n",
      "Confusion matrix\n",
      "-------------------------------------------------------\n"
     ]
    },
    {
     "data": {
      "text/plain": [
       "<AxesSubplot:>"
      ]
     },
     "execution_count": 76,
     "metadata": {},
     "output_type": "execute_result"
    },
    {
     "data": {
      "image/png": "[encoded data removed]",
      "text/plain": [
       "<Figure size 864x864 with 2 Axes>"
      ]
     },
     "metadata": {
      "needs_background": "light"
     },
     "output_type": "display_data"
    }
   ],
   "source": [
    "from sklearn.neighbors import KNeighborsClassifier\n",
    "# K-Neighbors\n",
    "knn = KNeighborsClassifier()\n",
    "knn.fit(x_train_LDA, y_train)\n",
    "KNN_pred  = knn.predict(x_test_LDA)\n",
    "print(knn)\n",
    "print('Test performance')\n",
    "print('-------------------------------------------------------')\n",
    "print(classification_report(y_test, KNN_pred,digits=4))\n",
    "\n",
    "plt.figure(figsize=(12,12))\n",
    "print('Confusion matrix')\n",
    "print('-------------------------------------------------------')\n",
    "cr = confusion_matrix(y_test, KNN_pred)\n",
    "sns.heatmap(cr,annot=True)\n"
   ]
  },
  {
   "cell_type": "markdown",
   "id": "632b7179",
   "metadata": {},
   "source": [
    "# ABC"
   ]
  },
  {
   "cell_type": "code",
   "execution_count": 77,
   "id": "66ffe4b3",
   "metadata": {
    "ExecuteTime": {
     "end_time": "2023-05-10T02:03:19.603862Z",
     "start_time": "2023-05-10T02:03:08.405529Z"
    }
   },
   "outputs": [
    {
     "name": "stdout",
     "output_type": "stream",
     "text": [
      "AdaBoostClassifier(learning_rate=0.01, n_estimators=200, random_state=123)\n",
      "Test performance\n",
      "-------------------------------------------------------\n",
      "              precision    recall  f1-score   support\n",
      "\n",
      "           3     0.4393    0.6812    0.5341       138\n",
      "           4     0.0000    0.0000    0.0000       128\n",
      "           5     0.0000    0.0000    0.0000       122\n",
      "           6     0.2036    0.5000    0.2894       112\n",
      "           7     0.3030    0.1961    0.2381       102\n",
      "           8     0.4444    0.5333    0.4848       105\n",
      "           9     0.8060    1.0000    0.8926       108\n",
      "\n",
      "    accuracy                         0.4098       815\n",
      "   macro avg     0.3138    0.4158    0.3484       815\n",
      "weighted avg     0.3043    0.4098    0.3407       815\n",
      "\n",
      "Confusion matrix\n",
      "-------------------------------------------------------\n"
     ]
    },
    {
     "name": "stderr",
     "output_type": "stream",
     "text": [
      "C:\\Users\\SNEHIT REDDY\\AppData\\Local\\Programs\\Python\\Python310\\lib\\site-packages\\sklearn\\metrics\\_classification.py:1327: UndefinedMetricWarning: Precision and F-score are ill-defined and being set to 0.0 in labels with no predicted samples. Use `zero_division` parameter to control this behavior.\n",
      "  _warn_prf(average, modifier, msg_start, len(result))\n",
      "C:\\Users\\SNEHIT REDDY\\AppData\\Local\\Programs\\Python\\Python310\\lib\\site-packages\\sklearn\\metrics\\_classification.py:1327: UndefinedMetricWarning: Precision and F-score are ill-defined and being set to 0.0 in labels with no predicted samples. Use `zero_division` parameter to control this behavior.\n",
      "  _warn_prf(average, modifier, msg_start, len(result))\n",
      "C:\\Users\\SNEHIT REDDY\\AppData\\Local\\Programs\\Python\\Python310\\lib\\site-packages\\sklearn\\metrics\\_classification.py:1327: UndefinedMetricWarning: Precision and F-score are ill-defined and being set to 0.0 in labels with no predicted samples. Use `zero_division` parameter to control this behavior.\n",
      "  _warn_prf(average, modifier, msg_start, len(result))\n"
     ]
    },
    {
     "data": {
      "text/plain": [
       "<AxesSubplot:>"
      ]
     },
     "execution_count": 77,
     "metadata": {},
     "output_type": "execute_result"
    },
    {
     "data": {
      "image/png": "[encoded data removed]",
      "text/plain": [
       "<Figure size 864x864 with 2 Axes>"
      ]
     },
     "metadata": {
      "needs_background": "light"
     },
     "output_type": "display_data"
    }
   ],
   "source": [
    "from sklearn.ensemble import AdaBoostClassifier\n",
    "# K-Neighbors\n",
    "ABC = AdaBoostClassifier(n_estimators=200,random_state=123,learning_rate=0.01)\n",
    "ABC.fit(x_train_LDA, y_train)\n",
    "ABC_pred  = ABC.predict(x_test_LDA)\n",
    "print(ABC)\n",
    "print('Test performance')\n",
    "print('-------------------------------------------------------')\n",
    "print(classification_report(y_test, ABC_pred,digits=4))\n",
    "\n",
    "plt.figure(figsize=(12,12))\n",
    "print('Confusion matrix')\n",
    "print('-------------------------------------------------------')\n",
    "cr = confusion_matrix(y_test, ABC_pred)\n",
    "sns.heatmap(cr,annot=True)\n"
   ]
  },
  {
   "cell_type": "markdown",
   "id": "9d491bef",
   "metadata": {},
   "source": [
    "# XGB on new data"
   ]
  },
  {
   "cell_type": "code",
   "execution_count": 78,
   "id": "26643324",
   "metadata": {
    "ExecuteTime": {
     "end_time": "2023-05-10T02:03:22.643805Z",
     "start_time": "2023-05-10T02:03:19.603862Z"
    }
   },
   "outputs": [
    {
     "ename": "ValueError",
     "evalue": "Invalid classes inferred from unique values of `y`.  Expected: [0 1 2 3 4 5 6], got [3 4 5 6 7 8 9]",
     "output_type": "error",
     "traceback": [
      "\u001b[1;31m---------------------------------------------------------------------------\u001b[0m",
      "\u001b[1;31mValueError\u001b[0m                                Traceback (most recent call last)",
      "Input \u001b[1;32mIn [78]\u001b[0m, in \u001b[0;36m<cell line: 4>\u001b[1;34m()\u001b[0m\n\u001b[0;32m      1\u001b[0m \u001b[38;5;28;01mfrom\u001b[39;00m \u001b[38;5;21;01mxgboost\u001b[39;00m \u001b[38;5;28;01mimport\u001b[39;00m XGBClassifier\n\u001b[0;32m      3\u001b[0m xgc \u001b[38;5;241m=\u001b[39m XGBClassifier(random_state\u001b[38;5;241m=\u001b[39m\u001b[38;5;241m123\u001b[39m)\n\u001b[1;32m----> 4\u001b[0m \u001b[43mxgc\u001b[49m\u001b[38;5;241;43m.\u001b[39;49m\u001b[43mfit\u001b[49m\u001b[43m(\u001b[49m\u001b[43mx_train_LDA\u001b[49m\u001b[43m,\u001b[49m\u001b[43m \u001b[49m\u001b[43my_train\u001b[49m\u001b[43m)\u001b[49m\n\u001b[0;32m      6\u001b[0m XGB_pred3  \u001b[38;5;241m=\u001b[39m xgc\u001b[38;5;241m.\u001b[39mpredict(x_test_LDA)\n\u001b[0;32m      8\u001b[0m \u001b[38;5;28mprint\u001b[39m(xgc)\n",
      "File \u001b[1;32m~\\AppData\\Local\\Programs\\Python\\Python310\\lib\\site-packages\\xgboost\\core.py:532\u001b[0m, in \u001b[0;36m_deprecate_positional_args.<locals>.inner_f\u001b[1;34m(*args, **kwargs)\u001b[0m\n\u001b[0;32m    530\u001b[0m \u001b[38;5;28;01mfor\u001b[39;00m k, arg \u001b[38;5;129;01min\u001b[39;00m \u001b[38;5;28mzip\u001b[39m(sig\u001b[38;5;241m.\u001b[39mparameters, args):\n\u001b[0;32m    531\u001b[0m     kwargs[k] \u001b[38;5;241m=\u001b[39m arg\n\u001b[1;32m--> 532\u001b[0m \u001b[38;5;28;01mreturn\u001b[39;00m f(\u001b[38;5;241m*\u001b[39m\u001b[38;5;241m*\u001b[39mkwargs)\n",
      "File \u001b[1;32m~\\AppData\\Local\\Programs\\Python\\Python310\\lib\\site-packages\\xgboost\\sklearn.py:1357\u001b[0m, in \u001b[0;36mXGBClassifier.fit\u001b[1;34m(self, X, y, sample_weight, base_margin, eval_set, eval_metric, early_stopping_rounds, verbose, xgb_model, sample_weight_eval_set, base_margin_eval_set, feature_weights, callbacks)\u001b[0m\n\u001b[0;32m   1352\u001b[0m     expected_classes \u001b[38;5;241m=\u001b[39m np\u001b[38;5;241m.\u001b[39marange(\u001b[38;5;28mself\u001b[39m\u001b[38;5;241m.\u001b[39mn_classes_)\n\u001b[0;32m   1353\u001b[0m \u001b[38;5;28;01mif\u001b[39;00m (\n\u001b[0;32m   1354\u001b[0m     \u001b[38;5;28mself\u001b[39m\u001b[38;5;241m.\u001b[39mclasses_\u001b[38;5;241m.\u001b[39mshape \u001b[38;5;241m!=\u001b[39m expected_classes\u001b[38;5;241m.\u001b[39mshape\n\u001b[0;32m   1355\u001b[0m     \u001b[38;5;129;01mor\u001b[39;00m \u001b[38;5;129;01mnot\u001b[39;00m (\u001b[38;5;28mself\u001b[39m\u001b[38;5;241m.\u001b[39mclasses_ \u001b[38;5;241m==\u001b[39m expected_classes)\u001b[38;5;241m.\u001b[39mall()\n\u001b[0;32m   1356\u001b[0m ):\n\u001b[1;32m-> 1357\u001b[0m     \u001b[38;5;28;01mraise\u001b[39;00m \u001b[38;5;167;01mValueError\u001b[39;00m(\n\u001b[0;32m   1358\u001b[0m         \u001b[38;5;124mf\u001b[39m\u001b[38;5;124m\"\u001b[39m\u001b[38;5;124mInvalid classes inferred from unique values of `y`.  \u001b[39m\u001b[38;5;124m\"\u001b[39m\n\u001b[0;32m   1359\u001b[0m         \u001b[38;5;124mf\u001b[39m\u001b[38;5;124m\"\u001b[39m\u001b[38;5;124mExpected: \u001b[39m\u001b[38;5;132;01m{\u001b[39;00mexpected_classes\u001b[38;5;132;01m}\u001b[39;00m\u001b[38;5;124m, got \u001b[39m\u001b[38;5;132;01m{\u001b[39;00m\u001b[38;5;28mself\u001b[39m\u001b[38;5;241m.\u001b[39mclasses_\u001b[38;5;132;01m}\u001b[39;00m\u001b[38;5;124m\"\u001b[39m\n\u001b[0;32m   1360\u001b[0m     )\n\u001b[0;32m   1362\u001b[0m params \u001b[38;5;241m=\u001b[39m \u001b[38;5;28mself\u001b[39m\u001b[38;5;241m.\u001b[39mget_xgb_params()\n\u001b[0;32m   1364\u001b[0m \u001b[38;5;28;01mif\u001b[39;00m callable(\u001b[38;5;28mself\u001b[39m\u001b[38;5;241m.\u001b[39mobjective):\n",
      "\u001b[1;31mValueError\u001b[0m: Invalid classes inferred from unique values of `y`.  Expected: [0 1 2 3 4 5 6], got [3 4 5 6 7 8 9]"
     ]
    }
   ],
   "source": [
    "from xgboost import XGBClassifier\n",
    "\n",
    "xgc = XGBClassifier(random_state=123)\n",
    "xgc.fit(x_train_LDA, y_train)\n",
    "\n",
    "XGB_pred3  = xgc.predict(x_test_LDA)\n",
    "\n",
    "print(xgc)\n",
    "\n",
    "print('Test performance')\n",
    "print('-------------------------------------------------------')\n",
    "print(classification_report(y_test, XGB_pred3,digits=4))\n",
    "\n",
    "# print('Roc_auc score')\n",
    "# print('-------------------------------------------------------')\n",
    "# print(roc_auc_score(y_test, XGB_pred))\n",
    "# print('')\n",
    "\n",
    "plt.figure(figsize=(12,12))\n",
    "print('Confusion matrix')\n",
    "print('-------------------------------------------------------')\n",
    "cr = confusion_matrix(y_test, XGB_pred3)\n",
    "sns.heatmap(cr,annot=True)\n"
   ]
  },
  {
   "cell_type": "markdown",
   "id": "57a81766",
   "metadata": {},
   "source": [
    " "
   ]
  },
  {
   "cell_type": "markdown",
   "id": "8e2686cd",
   "metadata": {},
   "source": [
    " "
   ]
  },
  {
   "cell_type": "markdown",
   "id": "d34cd1d4",
   "metadata": {},
   "source": [
    " "
   ]
  },
  {
   "cell_type": "markdown",
   "id": "dcb1bd76",
   "metadata": {},
   "source": [
    " "
   ]
  },
  {
   "cell_type": "markdown",
   "id": "a4900896",
   "metadata": {},
   "source": [
    "# Voting"
   ]
  },
  {
   "cell_type": "code",
   "execution_count": 83,
   "id": "4894c14f",
   "metadata": {
    "ExecuteTime": {
     "end_time": "2023-05-10T02:10:05.636915Z",
     "start_time": "2023-05-10T02:10:05.616297Z"
    }
   },
   "outputs": [],
   "source": [
    "from sklearn.ensemble import VotingClassifier\n",
    "from sklearn.metrics import f1_score, accuracy_score,precision_score,recall_score"
   ]
  },
  {
   "cell_type": "markdown",
   "id": "6dde946e",
   "metadata": {},
   "source": [
    "# Hard"
   ]
  },
  {
   "cell_type": "code",
   "execution_count": 86,
   "id": "0098b815",
   "metadata": {
    "ExecuteTime": {
     "end_time": "2023-05-10T02:12:18.714984Z",
     "start_time": "2023-05-10T02:12:18.698563Z"
    }
   },
   "outputs": [],
   "source": [
    "# Voting Classifier\n",
    "voting1 = VotingClassifier(estimators=[\n",
    "          ('DTC',DTR),\n",
    "          ('ETC', etc),\n",
    "          ('GB',GB)],\n",
    "           voting='hard')"
   ]
  },
  {
   "cell_type": "code",
   "execution_count": 87,
   "id": "fa4e91ae",
   "metadata": {
    "ExecuteTime": {
     "end_time": "2023-05-10T02:15:19.072524Z",
     "start_time": "2023-05-10T02:12:24.135577Z"
    }
   },
   "outputs": [
    {
     "name": "stdout",
     "output_type": "stream",
     "text": [
      "F1 Score:\n",
      "DecisionTreeClassifier 0.7496932515337423\n",
      "Accuracy:\n",
      "DecisionTreeClassifier 0.7496932515337423\n",
      "----------\n",
      "F1 Score:\n",
      "ExtraTreesClassifier 0.8711656441717791\n",
      "Accuracy:\n",
      "ExtraTreesClassifier 0.8711656441717791\n",
      "----------\n",
      "F1 Score:\n",
      "VotingClassifier 0.8331288343558282\n",
      "Accuracy:\n",
      "VotingClassifier 0.8331288343558282\n",
      "----------\n",
      "F1 Score:\n",
      "GradientBoostingClassifier 0.7276073619631902\n",
      "Accuracy:\n",
      "GradientBoostingClassifier 0.7276073619631902\n",
      "----------\n"
     ]
    }
   ],
   "source": [
    "# list of classifiers\n",
    "list_of_classifiers = [DTR,etc,voting1,GB]\n",
    "# Loop scores\n",
    "for classifier in list_of_classifiers:\n",
    "    classifier.fit(X_train,y_train)\n",
    "    pred = classifier.predict(X_test)\n",
    "    print(\"F1 Score:\")\n",
    "    print(classifier.__class__.__name__, precision_score(y_test, pred,average='micro'))\n",
    "    print(\"Accuracy:\")\n",
    "    print(classifier.__class__.__name__, recall_score(y_test, pred,average='micro'))\n",
    "    print(\"----------\")"
   ]
  },
  {
   "cell_type": "markdown",
   "id": "a69e9892",
   "metadata": {},
   "source": [
    "# Stacking"
   ]
  },
  {
   "cell_type": "code",
   "execution_count": 89,
   "id": "43c42ee8",
   "metadata": {
    "ExecuteTime": {
     "end_time": "2023-05-10T02:16:20.372082Z",
     "start_time": "2023-05-10T02:16:20.354928Z"
    }
   },
   "outputs": [],
   "source": [
    "estimators = [\n",
    "    ('rf', RandomForestClassifier(n_estimators=10, random_state=123)),\n",
    "    ('ETC', ExtraTreesClassifier(n_estimators=120,random_state=123)),\n",
    "    ('gbdt',GradientBoostingClassifier())\n",
    "]"
   ]
  },
  {
   "cell_type": "code",
   "execution_count": 90,
   "id": "89e6d703",
   "metadata": {
    "ExecuteTime": {
     "end_time": "2023-05-10T02:16:50.370535Z",
     "start_time": "2023-05-10T02:16:50.358868Z"
    }
   },
   "outputs": [],
   "source": [
    "from sklearn.ensemble import StackingClassifier\n",
    "\n",
    "clf = StackingClassifier(\n",
    "    estimators=estimators, \n",
    "    final_estimator=DecisionTreeClassifier(),\n",
    "    cv=10\n",
    ")"
   ]
  },
  {
   "cell_type": "code",
   "execution_count": 91,
   "id": "777a7678",
   "metadata": {
    "ExecuteTime": {
     "end_time": "2023-05-10T02:31:43.659261Z",
     "start_time": "2023-05-10T02:17:02.645093Z"
    }
   },
   "outputs": [
    {
     "data": {
      "text/html": [
       "<style>#sk-container-id-8 {color: black;background-color: white;}#sk-container-id-8 pre{padding: 0;}#sk-container-id-8 div.sk-toggleable {background-color: white;}#sk-container-id-8 label.sk-toggleable__label {cursor: pointer;display: block;width: 100%;margin-bottom: 0;padding: 0.3em;box-sizing: border-box;text-align: center;}#sk-container-id-8 label.sk-toggleable__label-arrow:before {content: \"▸\";float: left;margin-right: 0.25em;color: #696969;}#sk-container-id-8 label.sk-toggleable__label-arrow:hover:before {color: black;}#sk-container-id-8 div.sk-estimator:hover label.sk-toggleable__label-arrow:before {color: black;}#sk-container-id-8 div.sk-toggleable__content {max-height: 0;max-width: 0;overflow: hidden;text-align: left;background-color: #f0f8ff;}#sk-container-id-8 div.sk-toggleable__content pre {margin: 0.2em;color: black;border-radius: 0.25em;background-color: #f0f8ff;}#sk-container-id-8 input.sk-toggleable__control:checked~div.sk-toggleable__content {max-height: 200px;max-width: 100%;overflow: auto;}#sk-container-id-8 input.sk-toggleable__control:checked~label.sk-toggleable__label-arrow:before {content: \"▾\";}#sk-container-id-8 div.sk-estimator input.sk-toggleable__control:checked~label.sk-toggleable__label {background-color: #d4ebff;}#sk-container-id-8 div.sk-label input.sk-toggleable__control:checked~label.sk-toggleable__label {background-color: #d4ebff;}#sk-container-id-8 input.sk-hidden--visually {border: 0;clip: rect(1px 1px 1px 1px);clip: rect(1px, 1px, 1px, 1px);height: 1px;margin: -1px;overflow: hidden;padding: 0;position: absolute;width: 1px;}#sk-container-id-8 div.sk-estimator {font-family: monospace;background-color: #f0f8ff;border: 1px dotted black;border-radius: 0.25em;box-sizing: border-box;margin-bottom: 0.5em;}#sk-container-id-8 div.sk-estimator:hover {background-color: #d4ebff;}#sk-container-id-8 div.sk-parallel-item::after {content: \"\";width: 100%;border-bottom: 1px solid gray;flex-grow: 1;}#sk-container-id-8 div.sk-label:hover label.sk-toggleable__label {background-color: #d4ebff;}#sk-container-id-8 div.sk-serial::before {content: \"\";position: absolute;border-left: 1px solid gray;box-sizing: border-box;top: 0;bottom: 0;left: 50%;z-index: 0;}#sk-container-id-8 div.sk-serial {display: flex;flex-direction: column;align-items: center;background-color: white;padding-right: 0.2em;padding-left: 0.2em;position: relative;}#sk-container-id-8 div.sk-item {position: relative;z-index: 1;}#sk-container-id-8 div.sk-parallel {display: flex;align-items: stretch;justify-content: center;background-color: white;position: relative;}#sk-container-id-8 div.sk-item::before, #sk-container-id-8 div.sk-parallel-item::before {content: \"\";position: absolute;border-left: 1px solid gray;box-sizing: border-box;top: 0;bottom: 0;left: 50%;z-index: -1;}#sk-container-id-8 div.sk-parallel-item {display: flex;flex-direction: column;z-index: 1;position: relative;background-color: white;}#sk-container-id-8 div.sk-parallel-item:first-child::after {align-self: flex-end;width: 50%;}#sk-container-id-8 div.sk-parallel-item:last-child::after {align-self: flex-start;width: 50%;}#sk-container-id-8 div.sk-parallel-item:only-child::after {width: 0;}#sk-container-id-8 div.sk-dashed-wrapped {border: 1px dashed gray;margin: 0 0.4em 0.5em 0.4em;box-sizing: border-box;padding-bottom: 0.4em;background-color: white;}#sk-container-id-8 div.sk-label label {font-family: monospace;font-weight: bold;display: inline-block;line-height: 1.2em;}#sk-container-id-8 div.sk-label-container {text-align: center;}#sk-container-id-8 div.sk-container {/* jupyter's `normalize.less` sets `[hidden] { display: none; }` but bootstrap.min.css set `[hidden] { display: none !important; }` so we also need the `!important` here to be able to override the default hidden behavior on the sphinx rendered scikit-learn.org. See: https://github.com/scikit-learn/scikit-learn/issues/21755 */display: inline-block !important;position: relative;}#sk-container-id-8 div.sk-text-repr-fallback {display: none;}</style><div id=\"sk-container-id-8\" class=\"sk-top-container\"><div class=\"sk-text-repr-fallback\"><pre>StackingClassifier(cv=10,\n",
       "                   estimators=[(&#x27;rf&#x27;,\n",
       "                                RandomForestClassifier(n_estimators=10,\n",
       "                                                       random_state=123)),\n",
       "                               (&#x27;ETC&#x27;,\n",
       "                                ExtraTreesClassifier(n_estimators=120,\n",
       "                                                     random_state=123)),\n",
       "                               (&#x27;gbdt&#x27;, GradientBoostingClassifier())],\n",
       "                   final_estimator=DecisionTreeClassifier())</pre><b>In a Jupyter environment, please rerun this cell to show the HTML representation or trust the notebook. <br />On GitHub, the HTML representation is unable to render, please try loading this page with nbviewer.org.</b></div><div class=\"sk-container\" hidden><div class=\"sk-item sk-dashed-wrapped\"><div class=\"sk-label-container\"><div class=\"sk-label sk-toggleable\"><input class=\"sk-toggleable__control sk-hidden--visually\" id=\"sk-estimator-id-8\" type=\"checkbox\" ><label for=\"sk-estimator-id-8\" class=\"sk-toggleable__label sk-toggleable__label-arrow\">StackingClassifier</label><div class=\"sk-toggleable__content\"><pre>StackingClassifier(cv=10,\n",
       "                   estimators=[(&#x27;rf&#x27;,\n",
       "                                RandomForestClassifier(n_estimators=10,\n",
       "                                                       random_state=123)),\n",
       "                               (&#x27;ETC&#x27;,\n",
       "                                ExtraTreesClassifier(n_estimators=120,\n",
       "                                                     random_state=123)),\n",
       "                               (&#x27;gbdt&#x27;, GradientBoostingClassifier())],\n",
       "                   final_estimator=DecisionTreeClassifier())</pre></div></div></div><div class=\"sk-serial\"><div class=\"sk-item\"><div class=\"sk-parallel\"><div class=\"sk-parallel-item\"><div class=\"sk-item\"><div class=\"sk-label-container\"><div class=\"sk-label sk-toggleable\"><label>rf</label></div></div><div class=\"sk-serial\"><div class=\"sk-item\"><div class=\"sk-estimator sk-toggleable\"><input class=\"sk-toggleable__control sk-hidden--visually\" id=\"sk-estimator-id-9\" type=\"checkbox\" ><label for=\"sk-estimator-id-9\" class=\"sk-toggleable__label sk-toggleable__label-arrow\">RandomForestClassifier</label><div class=\"sk-toggleable__content\"><pre>RandomForestClassifier(n_estimators=10, random_state=123)</pre></div></div></div></div></div></div><div class=\"sk-parallel-item\"><div class=\"sk-item\"><div class=\"sk-label-container\"><div class=\"sk-label sk-toggleable\"><label>ETC</label></div></div><div class=\"sk-serial\"><div class=\"sk-item\"><div class=\"sk-estimator sk-toggleable\"><input class=\"sk-toggleable__control sk-hidden--visually\" id=\"sk-estimator-id-10\" type=\"checkbox\" ><label for=\"sk-estimator-id-10\" class=\"sk-toggleable__label sk-toggleable__label-arrow\">ExtraTreesClassifier</label><div class=\"sk-toggleable__content\"><pre>ExtraTreesClassifier(n_estimators=120, random_state=123)</pre></div></div></div></div></div></div><div class=\"sk-parallel-item\"><div class=\"sk-item\"><div class=\"sk-label-container\"><div class=\"sk-label sk-toggleable\"><label>gbdt</label></div></div><div class=\"sk-serial\"><div class=\"sk-item\"><div class=\"sk-estimator sk-toggleable\"><input class=\"sk-toggleable__control sk-hidden--visually\" id=\"sk-estimator-id-11\" type=\"checkbox\" ><label for=\"sk-estimator-id-11\" class=\"sk-toggleable__label sk-toggleable__label-arrow\">GradientBoostingClassifier</label><div class=\"sk-toggleable__content\"><pre>GradientBoostingClassifier()</pre></div></div></div></div></div></div></div></div><div class=\"sk-item\"><div class=\"sk-parallel\"><div class=\"sk-parallel-item\"><div class=\"sk-item\"><div class=\"sk-label-container\"><div class=\"sk-label sk-toggleable\"><label>final_estimator</label></div></div><div class=\"sk-serial\"><div class=\"sk-item\"><div class=\"sk-estimator sk-toggleable\"><input class=\"sk-toggleable__control sk-hidden--visually\" id=\"sk-estimator-id-12\" type=\"checkbox\" ><label for=\"sk-estimator-id-12\" class=\"sk-toggleable__label sk-toggleable__label-arrow\">DecisionTreeClassifier</label><div class=\"sk-toggleable__content\"><pre>DecisionTreeClassifier()</pre></div></div></div></div></div></div></div></div></div></div></div></div>"
      ],
      "text/plain": [
       "StackingClassifier(cv=10,\n",
       "                   estimators=[('rf',\n",
       "                                RandomForestClassifier(n_estimators=10,\n",
       "                                                       random_state=123)),\n",
       "                               ('ETC',\n",
       "                                ExtraTreesClassifier(n_estimators=120,\n",
       "                                                     random_state=123)),\n",
       "                               ('gbdt', GradientBoostingClassifier())],\n",
       "                   final_estimator=DecisionTreeClassifier())"
      ]
     },
     "execution_count": 91,
     "metadata": {},
     "output_type": "execute_result"
    }
   ],
   "source": [
    "clf.fit(X_train, y_train)"
   ]
  },
  {
   "cell_type": "code",
   "execution_count": 93,
   "id": "99065a90",
   "metadata": {
    "ExecuteTime": {
     "end_time": "2023-05-10T02:31:45.526476Z",
     "start_time": "2023-05-10T02:31:45.347910Z"
    }
   },
   "outputs": [],
   "source": [
    "y_pred1 = clf.predict(X_test)"
   ]
  },
  {
   "cell_type": "code",
   "execution_count": 94,
   "id": "c340b064",
   "metadata": {
    "ExecuteTime": {
     "end_time": "2023-05-10T02:31:46.386527Z",
     "start_time": "2023-05-10T02:31:46.366966Z"
    }
   },
   "outputs": [
    {
     "data": {
      "text/plain": [
       "0.838036809815951"
      ]
     },
     "execution_count": 94,
     "metadata": {},
     "output_type": "execute_result"
    }
   ],
   "source": [
    "from sklearn.metrics import accuracy_score\n",
    "accuracy_score(y_test,y_pred1)"
   ]
  },
  {
   "cell_type": "code",
   "execution_count": null,
   "id": "dc9a6504",
   "metadata": {},
   "outputs": [],
   "source": []
  }
 ],
 "metadata": {
  "kernelspec": {
   "display_name": "Python 3 (ipykernel)",
   "language": "python",
   "name": "python3"
  },
  "language_info": {
   "codemirror_mode": {
    "name": "ipython",
    "version": 3
   },
   "file_extension": ".py",
   "mimetype": "text/x-python",
   "name": "python",
   "nbconvert_exporter": "python",
   "pygments_lexer": "ipython3",
   "version": "3.10.6"
  },
  "varInspector": {
   "cols": {
    "lenName": 16,
    "lenType": 16,
    "lenVar": 40
   },
   "kernels_config": {
    "python": {
     "delete_cmd_postfix": "",
     "delete_cmd_prefix": "del ",
     "library": "var_list.py",
     "varRefreshCmd": "print(var_dic_list())"
    },
    "r": {
     "delete_cmd_postfix": ") ",
     "delete_cmd_prefix": "rm(",
     "library": "var_list.r",
     "varRefreshCmd": "cat(var_dic_list()) "
    }
   },
   "types_to_exclude": [
    "module",
    "function",
    "builtin_function_or_method",
    "instance",
    "_Feature"
   ],
   "window_display": false
  }
 },
 "nbformat": 4,
 "nbformat_minor": 5
}
